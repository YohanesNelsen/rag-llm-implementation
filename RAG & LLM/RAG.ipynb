{
 "cells": [
  {
   "cell_type": "markdown",
   "id": "6fc55701-ee43-4b1d-8541-f61a9b5333e7",
   "metadata": {},
   "source": [
    "# Database Creation"
   ]
  },
  {
   "cell_type": "code",
   "execution_count": 70,
   "id": "c60d2dc4-3899-485d-9028-e4580c70ce6d",
   "metadata": {},
   "outputs": [
    {
     "name": "stderr",
     "output_type": "stream",
     "text": [
      "Setting default log level to \"WARN\".\n",
      "To adjust logging level use sc.setLogLevel(newLevel). For SparkR, use setLogLevel(newLevel).\n",
      "24/04/12 16:31:30 WARN NativeCodeLoader: Unable to load native-hadoop library for your platform... using builtin-java classes where applicable\n"
     ]
    }
   ],
   "source": [
    "from pyspark.sql import SparkSession\n",
    "import pandas as pd\n",
    "from pyspark.sql.types import StructType, StructField, StringType, IntegerType, FloatType, DateType, DecimalType, ArrayType, BinaryType\n",
    "from pyspark.sql.functions import max, min\n",
    "from pyspark.sql.functions import avg\n",
    "from pyspark.sql.functions import explode, split, count, collect_set\n",
    "from pyspark.sql.functions import sum\n",
    "\n",
    "# Initialize a SparkSession\n",
    "spark = SparkSession.builder \\\n",
    "    .appName(\"Data Processing with Spark\") \\\n",
    "    .getOrCreate()\n",
    "\n",
    "# Define schema for reviews\n",
    "review_schema = StructType([\n",
    "    StructField(\"ReviewText\", StringType(), True),\n",
    "    StructField(\"Review\", StringType(), True),\n",
    "    StructField(\"ReviewLength\", IntegerType(), True),\n",
    "    StructField(\"PlayHours\", FloatType(), True),\n",
    "    StructField(\"DatePosted\", StringType(), True), \n",
    "    StructField(\"Game\", StringType(), True)\n",
    "])\n",
    "\n",
    "# Define schema for pricing\n",
    "pricing_schema = StructType([\n",
    "    StructField(\"Currency\", StringType(), True),\n",
    "    StructField(\"Current Price\", FloatType(), True),  \n",
    "    StructField(\"Converted Price\", FloatType(), True),\n",
    "    StructField(\"Lowest Recorded Price\", FloatType(), True),\n",
    "    StructField(\"Game\", StringType(), True)\n",
    "])\n",
    "\n",
    "\n",
    "# Define schema for game information\n",
    "info_schema = StructType([\n",
    "    StructField(\"Game\", StringType(), True),\n",
    "    StructField(\"Developer\", StringType(), True),\n",
    "    StructField(\"In-Game Count\", IntegerType(), True),\n",
    "    StructField(\"Tags\", StringType(), True),\n",
    "    StructField(\"Categories\", StringType(), True) \n",
    "])"
   ]
  },
  {
   "cell_type": "code",
   "execution_count": 71,
   "id": "dcee6f25-4efb-496b-ad20-69024079fc92",
   "metadata": {},
   "outputs": [],
   "source": [
    "# Load your data using the schema\n",
    "df_reviews = spark.read.schema(review_schema).parquet('../Data Cleaning/df_combined.parquet')\n",
    "df_pricing = spark.read.schema(pricing_schema).parquet('../Data Cleaning/pricing_combined.parquet')\n",
    "df_info = spark.read.schema(info_schema).parquet('../Data Cleaning/combined_info.parquet')"
   ]
  },
  {
   "cell_type": "code",
   "execution_count": 72,
   "id": "d5b18679-e1ca-4304-a5b8-a6cc90c4e95d",
   "metadata": {},
   "outputs": [
    {
     "name": "stderr",
     "output_type": "stream",
     "text": [
      "                                                                                \r"
     ]
    },
    {
     "name": "stdout",
     "output_type": "stream",
     "text": [
      "+----------------+\n",
      "|            Game|\n",
      "+----------------+\n",
      "|lethal companies|\n",
      "|        palworld|\n",
      "|       craftopia|\n",
      "+----------------+\n",
      "\n",
      "+----------------+\n",
      "|            Game|\n",
      "+----------------+\n",
      "|lethal companies|\n",
      "|        palworld|\n",
      "|       craftopia|\n",
      "+----------------+\n",
      "\n",
      "+----------------+\n",
      "|            Game|\n",
      "+----------------+\n",
      "|lethal companies|\n",
      "|        palworld|\n",
      "|       craftopia|\n",
      "+----------------+\n",
      "\n"
     ]
    }
   ],
   "source": [
    "# Check unique game names in each DataFrame\n",
    "df_reviews.select(\"Game\").distinct().show()\n",
    "df_pricing.select(\"Game\").distinct().show()\n",
    "df_info.select(\"Game\").distinct().show()"
   ]
  },
  {
   "cell_type": "code",
   "execution_count": 100,
   "id": "4e821ac3-54be-4eed-ae05-56c8dc0fd186",
   "metadata": {},
   "outputs": [
    {
     "name": "stdout",
     "output_type": "stream",
     "text": [
      "+------------------+-------------+---------------+---------------------+----------------+\n",
      "|Currency          |Current Price|Converted Price|Lowest Recorded Price|Game            |\n",
      "+------------------+-------------+---------------+---------------------+----------------+\n",
      "|British Pound     |8.5          |8.5            |5.953                |Lethal Companies|\n",
      "|Russian Ruble     |385.0        |3.29           |2.3                  |Lethal Companies|\n",
      "|South African Rand|100.0        |4.24           |2.97                 |Lethal Companies|\n",
      "+------------------+-------------+---------------+---------------------+----------------+\n",
      "only showing top 3 rows\n",
      "\n"
     ]
    }
   ],
   "source": [
    "# Show the first three rows of the df_reviews DataFrame\n",
    "df_pricing.show(3, truncate=False)"
   ]
  },
  {
   "cell_type": "code",
   "execution_count": 101,
   "id": "c3b6ba86-a890-48bd-86ee-0c6057571758",
   "metadata": {},
   "outputs": [
    {
     "name": "stdout",
     "output_type": "stream",
     "text": [
      "+--------------------+-----------+------------+---------+-------------------+---------+\n",
      "|          ReviewText|     Review|ReviewLength|PlayHours|         DatePosted|     Game|\n",
      "+--------------------+-----------+------------+---------+-------------------+---------+\n",
      "|30H on steam (cur...|Recommended|         205|     63.7| Posted: February 9|Craftopia|\n",
      "|Craftopia is an a...|Recommended|        1080|     35.0|Posted: February 19|Craftopia|\n",
      "|                 gud|Recommended|          20|     22.7|   Posted: March 25|Craftopia|\n",
      "+--------------------+-----------+------------+---------+-------------------+---------+\n",
      "only showing top 3 rows\n",
      "\n"
     ]
    }
   ],
   "source": [
    "df_reviews.show(3)"
   ]
  },
  {
   "cell_type": "code",
   "execution_count": 103,
   "id": "6aee410f-9b5f-4f4b-a5cc-6f38186533b7",
   "metadata": {},
   "outputs": [
    {
     "name": "stdout",
     "output_type": "stream",
     "text": [
      "+----------------+----------+-------------+--------------------+--------------------+\n",
      "|            Game| Developer|In-Game Count|                Tags|          Categories|\n",
      "+----------------+----------+-------------+--------------------+--------------------+\n",
      "|        Palworld|Pocketpair|        60281| Multiplayer,  Op...|Single-player, On...|\n",
      "|       Craftopia|Pocketpair|          335| Open World,  Cra...|Single-player, On...|\n",
      "|Lethal Companies|  Zeekerss|        22876| Online CoOp,  Ho...|Single-player, On...|\n",
      "+----------------+----------+-------------+--------------------+--------------------+\n",
      "\n"
     ]
    }
   ],
   "source": [
    "df_info.show(3)"
   ]
  },
  {
   "cell_type": "code",
   "execution_count": 112,
   "id": "d05c5fbe-aa12-4daa-b9f1-bd32c4720f58",
   "metadata": {},
   "outputs": [
    {
     "name": "stdout",
     "output_type": "stream",
     "text": [
      "Number of rows in df_reviews: 450\n",
      "Number of rows in df_pricing: 123\n",
      "Number of rows in df_info: 3\n"
     ]
    }
   ],
   "source": [
    "# Calculate the number of rows in the df_palworld DataFrame\n",
    "num_rows1 = df_reviews.count()\n",
    "num_rows2 = df_pricing.count()\n",
    "num_rows3 = df_info.count()\n",
    "\n",
    "# Print the result\n",
    "print(\"Number of rows in df_reviews:\", num_rows1)\n",
    "print(\"Number of rows in df_pricing:\", num_rows2)\n",
    "print(\"Number of rows in df_info:\", num_rows3)"
   ]
  },
  {
   "cell_type": "markdown",
   "id": "48817b29-dfe6-4f6a-b894-5ad2903ab890",
   "metadata": {},
   "source": [
    "# Some Sample Queries"
   ]
  },
  {
   "cell_type": "markdown",
   "id": "12ce4043-652c-4566-91b3-09c57fb1c921",
   "metadata": {},
   "source": [
    "## Find the maximum and minimum of prices for each game in pounds"
   ]
  },
  {
   "cell_type": "code",
   "execution_count": 114,
   "id": "6b698b4b-9e80-4c2c-a134-126be537fdc2",
   "metadata": {},
   "outputs": [
    {
     "name": "stdout",
     "output_type": "stream",
     "text": [
      "+----------------+---------+---------+\n",
      "|            Game|Max Price|Min Price|\n",
      "+----------------+---------+---------+\n",
      "|       Craftopia|    14.76|     4.02|\n",
      "|        Palworld|     26.5|     7.47|\n",
      "|Lethal Companies|     9.66|     3.29|\n",
      "+----------------+---------+---------+\n",
      "\n"
     ]
    }
   ],
   "source": [
    "# Finding the maximum and minimum recorded prices per game\n",
    "price_range = df_pricing.groupBy(\"Game\").agg(\n",
    "    max(\"Converted Price\").alias(\"Max Price\"),\n",
    "    min(\"Converted Price\").alias(\"Min Price\")\n",
    ")\n",
    "price_range.show()"
   ]
  },
  {
   "cell_type": "markdown",
   "id": "c3af9f50-eca9-4656-a3d9-9120e1974809",
   "metadata": {},
   "source": [
    "## Average Play Hours per Game"
   ]
  },
  {
   "cell_type": "code",
   "execution_count": 115,
   "id": "ec953bfc-f26d-4a19-9aec-af42b55aba50",
   "metadata": {},
   "outputs": [
    {
     "name": "stdout",
     "output_type": "stream",
     "text": [
      "+----------------+------------------+\n",
      "|            Game|Average Play Hours|\n",
      "+----------------+------------------+\n",
      "|       Craftopia|52.266000073452794|\n",
      "|        Palworld| 72.92000024278958|\n",
      "|Lethal Companies| 42.10600012938182|\n",
      "+----------------+------------------+\n",
      "\n"
     ]
    }
   ],
   "source": [
    "# Calculating average play hours per game\n",
    "average_play_hours = df_reviews.groupBy(\"Game\").agg(avg(\"PlayHours\").alias(\"Average Play Hours\"))\n",
    "average_play_hours.show()"
   ]
  },
  {
   "cell_type": "markdown",
   "id": "e975c7b3-c626-4537-af9a-3aacf0c9f845",
   "metadata": {},
   "source": [
    "## Listing Developers and Their Games"
   ]
  },
  {
   "cell_type": "code",
   "execution_count": 117,
   "id": "e0c5bbaf-4d37-4b87-adf9-8c2adcc8077c",
   "metadata": {},
   "outputs": [
    {
     "name": "stdout",
     "output_type": "stream",
     "text": [
      "+----------+---------------------+\n",
      "|Developer |Games                |\n",
      "+----------+---------------------+\n",
      "|Zeekerss  |[Lethal Companies]   |\n",
      "|Pocketpair|[Palworld, Craftopia]|\n",
      "+----------+---------------------+\n",
      "\n"
     ]
    }
   ],
   "source": [
    "df_info.select(\"Developer\", \"Game\").distinct().groupBy(\"Developer\").agg(\n",
    "    collect_set(\"Game\").alias(\"Games\")\n",
    ").show(truncate=False)"
   ]
  },
  {
   "cell_type": "markdown",
   "id": "acc7d37c-88c7-49c3-89ca-edbfe5b1be7e",
   "metadata": {},
   "source": [
    "## Count the total of review text per game"
   ]
  },
  {
   "cell_type": "code",
   "execution_count": 122,
   "id": "6256ec66-21ae-4e7f-8a30-7a856884c300",
   "metadata": {},
   "outputs": [
    {
     "name": "stdout",
     "output_type": "stream",
     "text": [
      "+----------------+------------------+\n",
      "|            Game|Total Review Words|\n",
      "+----------------+------------------+\n",
      "|       Craftopia|             45604|\n",
      "|        Palworld|             16528|\n",
      "|Lethal Companies|             12616|\n",
      "+----------------+------------------+\n",
      "\n"
     ]
    }
   ],
   "source": [
    "# Summing review lengths per game\n",
    "df_reviews.groupBy(\"Game\").agg(\n",
    "    sum(\"ReviewLength\").alias(\"Total Review Words\")\n",
    ").show()\n"
   ]
  },
  {
   "cell_type": "markdown",
   "id": "cb9ac4f8-4be7-41d9-a2e4-2113edadad4a",
   "metadata": {},
   "source": [
    "## Counting total 'Recommended' and 'Not Recommended'"
   ]
  },
  {
   "cell_type": "code",
   "execution_count": 123,
   "id": "deeccca3-40f4-4753-84f9-b57e54b8bca4",
   "metadata": {},
   "outputs": [
    {
     "name": "stdout",
     "output_type": "stream",
     "text": [
      "+----------------+---------------+-----------+\n",
      "|            Game|Not Recommended|Recommended|\n",
      "+----------------+---------------+-----------+\n",
      "|       Craftopia|             60|         90|\n",
      "|        Palworld|              9|        141|\n",
      "|Lethal Companies|              8|        142|\n",
      "+----------------+---------------+-----------+\n",
      "\n"
     ]
    }
   ],
   "source": [
    "# Grouping by 'Game' and counting total 'Recommended' and 'Not Recommended'\n",
    "df_reviews.groupBy(\"Game\").pivot(\"Review\").count().show()"
   ]
  },
  {
   "cell_type": "markdown",
   "id": "54855095-00ea-4965-b4b8-b20fcc723793",
   "metadata": {},
   "source": [
    "## Queries from three tables"
   ]
  },
  {
   "cell_type": "code",
   "execution_count": 124,
   "id": "8263a586-5743-4866-98c7-60c351fffecc",
   "metadata": {},
   "outputs": [],
   "source": [
    "# Create temporary views for each DataFrame\n",
    "df_reviews.createOrReplaceTempView(\"reviews\")\n",
    "df_pricing.createOrReplaceTempView(\"pricing\")\n",
    "df_info.createOrReplaceTempView(\"info\")\n"
   ]
  },
  {
   "cell_type": "code",
   "execution_count": 127,
   "id": "3ed6b910-9c12-45cf-bde7-ea83f1d18f74",
   "metadata": {},
   "outputs": [
    {
     "name": "stdout",
     "output_type": "stream",
     "text": [
      "+----------------+-------------------+-----------+------------------+----------+\n",
      "|Game            |Max_Converted_Price|Currency   |Average_PlayHours |Developer |\n",
      "+----------------+-------------------+-----------+------------------+----------+\n",
      "|Craftopia       |14.76              |Swiss Franc|52.266000073452794|Pocketpair|\n",
      "|Lethal Companies|9.66               |Swiss Franc|42.10600012938182 |Zeekerss  |\n",
      "|Palworld        |26.5               |Swiss Franc|72.92000024278958 |Pocketpair|\n",
      "+----------------+-------------------+-----------+------------------+----------+\n",
      "\n"
     ]
    }
   ],
   "source": [
    "query = \"\"\"\n",
    "SELECT \n",
    "    p.Game,\n",
    "    MAX(p.`Converted Price`) AS Max_Converted_Price,\n",
    "    FIRST(p.Currency) AS Currency,\n",
    "    AVG(r.PlayHours) AS Average_PlayHours,\n",
    "    i.Developer\n",
    "FROM \n",
    "    pricing p\n",
    "JOIN \n",
    "    reviews r ON p.Game = r.Game\n",
    "JOIN \n",
    "    info i ON p.Game = i.Game\n",
    "GROUP BY \n",
    "    p.Game, i.Developer\n",
    "\"\"\"\n",
    "\n",
    "result_df = spark.sql(query)\n",
    "result_df.show(truncate=False)\n"
   ]
  },
  {
   "cell_type": "code",
   "execution_count": 128,
   "id": "e0fb7df8-f6b4-4f8d-94c3-e567e0367f3a",
   "metadata": {},
   "outputs": [],
   "source": [
    "spark.stop()"
   ]
  },
  {
   "cell_type": "code",
   "execution_count": 67,
   "id": "24a6cd86-b38d-4c95-9c6f-400c5f8e7d9c",
   "metadata": {},
   "outputs": [],
   "source": [
    "# Import the files\n",
    "df_reviews = pd.read_parquet('../Data Cleaning/df_combined.parquet')\n",
    "df_pricing = pd.read_parquet('../Data Cleaning/pricing_combined.parquet')\n",
    "df_info = pd.read_parquet('../Data Cleaning/combined_info.parquet')"
   ]
  },
  {
   "cell_type": "code",
   "execution_count": 68,
   "id": "758cebe4-7b6b-4707-bbec-385a56be596f",
   "metadata": {},
   "outputs": [
    {
     "data": {
      "text/html": [
       "<div>\n",
       "<style scoped>\n",
       "    .dataframe tbody tr th:only-of-type {\n",
       "        vertical-align: middle;\n",
       "    }\n",
       "\n",
       "    .dataframe tbody tr th {\n",
       "        vertical-align: top;\n",
       "    }\n",
       "\n",
       "    .dataframe thead th {\n",
       "        text-align: right;\n",
       "    }\n",
       "</style>\n",
       "<table border=\"1\" class=\"dataframe\">\n",
       "  <thead>\n",
       "    <tr style=\"text-align: right;\">\n",
       "      <th></th>\n",
       "      <th>Game</th>\n",
       "      <th>Developer</th>\n",
       "      <th>In-Game Count</th>\n",
       "      <th>Tags</th>\n",
       "      <th>Categories</th>\n",
       "    </tr>\n",
       "  </thead>\n",
       "  <tbody>\n",
       "    <tr>\n",
       "      <th>0</th>\n",
       "      <td>Lethal Companies</td>\n",
       "      <td>Zeekerss</td>\n",
       "      <td>22876</td>\n",
       "      <td>Online CoOp,  Horror,  FirstPerson,  Coop,  S...</td>\n",
       "      <td>Single-player, Online Co-op, Family Sharing, E...</td>\n",
       "    </tr>\n",
       "    <tr>\n",
       "      <th>1</th>\n",
       "      <td>Craftopia</td>\n",
       "      <td>Pocketpair</td>\n",
       "      <td>335</td>\n",
       "      <td>Open World,  Crafting,  Survival,  Multiplaye...</td>\n",
       "      <td>Single-player, Online Co-op, LAN Co-op, Steam ...</td>\n",
       "    </tr>\n",
       "    <tr>\n",
       "      <th>2</th>\n",
       "      <td>Palworld</td>\n",
       "      <td>Pocketpair</td>\n",
       "      <td>60281</td>\n",
       "      <td>Multiplayer,  Open World,  Survival,  Creatur...</td>\n",
       "      <td>Single-player, Online Co-op, Steam Achievement...</td>\n",
       "    </tr>\n",
       "  </tbody>\n",
       "</table>\n",
       "</div>"
      ],
      "text/plain": [
       "               Game   Developer  In-Game Count  \\\n",
       "0  Lethal Companies    Zeekerss          22876   \n",
       "1         Craftopia  Pocketpair            335   \n",
       "2          Palworld  Pocketpair          60281   \n",
       "\n",
       "                                                Tags  \\\n",
       "0   Online CoOp,  Horror,  FirstPerson,  Coop,  S...   \n",
       "1   Open World,  Crafting,  Survival,  Multiplaye...   \n",
       "2   Multiplayer,  Open World,  Survival,  Creatur...   \n",
       "\n",
       "                                          Categories  \n",
       "0  Single-player, Online Co-op, Family Sharing, E...  \n",
       "1  Single-player, Online Co-op, LAN Co-op, Steam ...  \n",
       "2  Single-player, Online Co-op, Steam Achievement...  "
      ]
     },
     "execution_count": 68,
     "metadata": {},
     "output_type": "execute_result"
    }
   ],
   "source": [
    "df_info"
   ]
  },
  {
   "cell_type": "markdown",
   "id": "f2c6bb46-e5ab-4a3f-86af-cc50f28e3ba6",
   "metadata": {},
   "source": [
    "# RAG and LLM Implementataion"
   ]
  },
  {
   "cell_type": "code",
   "execution_count": 1,
   "id": "db317c64-343e-4664-80aa-62f246157658",
   "metadata": {},
   "outputs": [],
   "source": [
    "import pandas as pd\n",
    "import requests\n",
    "import json\n",
    "import numpy as np\n",
    "import string\n",
    "import re\n",
    "import os\n",
    "import nltk\n",
    "from nltk.tokenize import word_tokenize\n",
    "from nltk.corpus import stopwords\n",
    "from nltk.stem import WordNetLemmatizer\n",
    "from sklearn.feature_extraction.text import TfidfVectorizer\n",
    "from sklearn.metrics.pairwise import cosine_similarity\n",
    "from IPython.display import Markdown, display"
   ]
  },
  {
   "cell_type": "code",
   "execution_count": 43,
   "id": "f852a248-357a-41c5-9eb0-ab220ae47dad",
   "metadata": {},
   "outputs": [],
   "source": [
    "# Import the files\n",
    "df_reviews = pd.read_parquet('../Data Cleaning/df_combined.parquet')\n",
    "df_pricing = pd.read_parquet('../Data Cleaning/pricing_combined.parquet')\n",
    "df_info = pd.read_parquet('../Data Cleaning/combined_info.parquet')"
   ]
  },
  {
   "cell_type": "code",
   "execution_count": 44,
   "id": "99981227-5871-4fd7-a89c-8c396644cace",
   "metadata": {},
   "outputs": [],
   "source": [
    "api_key='0QR34tIcP2MW4q29s8GyLAze5K1RAYeN6BWaOrfLdYld'"
   ]
  },
  {
   "cell_type": "code",
   "execution_count": 45,
   "id": "2e09c2a8-c140-4a1c-a0e0-85a453612f6f",
   "metadata": {},
   "outputs": [],
   "source": [
    "def get_resp_oai(input_text, model):\n",
    "    url = \"https://llm.api.ai8.io/query_llm\"\n",
    "    data = {\n",
    "        # Specify the model that you want to use\n",
    "        \"model\": model,\n",
    "        \"messages\": [\n",
    "                    {\"role\": \"system\", \"content\": \"You are a Financial Analyst at a Stock Market Firm. You are good at coding and solving coding errors.\"},\n",
    "                    {\"role\": \"user\", \"content\": input_text}\n",
    "        ]\n",
    "    }\n",
    "    headers = {'Authorization': api_key}\n",
    "    response = requests.post(url, json=data, headers=headers)\n",
    "    if response.status_code == 200:\n",
    "        response_data = json.loads(response.content)\n",
    "        model_response = extract_message_oai(response_data)\n",
    "        return model_response\n",
    "    else:\n",
    "        return {\"statusCode\": response.status_code, \"body\": response.content}\n",
    "\n",
    "def extract_message_oai(response_data):\n",
    "    message_content = response_data.get(\"choices\", [])[0].get(\"message\", {}).get(\"content\", \"\")\n",
    "    # format the extracted message as markdown\n",
    "    markdown_content = \"---\\n\\n\" + message_content + \"\\n\\n---\"\n",
    "    return markdown_content\n",
    "    "
   ]
  },
  {
   "cell_type": "markdown",
   "id": "f2ddf900-9cc0-4087-a981-9ddb25219c9a",
   "metadata": {},
   "source": [
    "This is the main idea of how 'context' will be implemented "
   ]
  },
  {
   "cell_type": "code",
   "execution_count": 46,
   "id": "607a4333-ccbc-42c3-8272-336f2a7a1031",
   "metadata": {},
   "outputs": [
    {
     "data": {
      "text/markdown": [
       "<div style='color: #34568B;'>\n",
       "\n",
       "---\n",
       "\n",
       "The developer of Palworld is Pocketpair.\n",
       "\n",
       "---"
      ],
      "text/plain": [
       "<IPython.core.display.Markdown object>"
      ]
     },
     "metadata": {},
     "output_type": "display_data"
    }
   ],
   "source": [
    "question = \"\"\"\n",
    "Who is the developer of Palworld?\n",
    "\"\"\"\n",
    "context = '''\n",
    "Game\tDeveloper\tIn-Game Count\tTags\tCategories\n",
    "0\tLethal Companies\tZeekerss\t22876\tOnline CoOp, Horror, FirstPerson, Coop, S...\tSingle-player, Online Co-op, Family Sharing, E...\n",
    "1\tCraftopia\tPocketpair\t335\tOpen World, Crafting, Survival, Multiplaye...\tSingle-player, Online Co-op, LAN Co-op, Steam ...\n",
    "2\tPalworld\tPocketpair\t60281\tMultiplayer, Open World, Survival, Creatur...\tSingle-player, Online Co-op, Steam Achievement...\"\n",
    "'''\n",
    "\n",
    "full = f\"Based on this:'{context}', answer this: {question}, if the information is not from context, say 'I don't know'\"\n",
    "\n",
    "msg_0 = get_resp_oai(full, \"gpt-4-0125-preview\")\n",
    "\n",
    "display(Markdown(\"<div style='color: #34568B;'>\\n\\n\" + msg_0))"
   ]
  },
  {
   "cell_type": "code",
   "execution_count": 47,
   "id": "ae9ee437-1677-4087-b053-874977874670",
   "metadata": {},
   "outputs": [
    {
     "data": {
      "text/html": [
       "<div>\n",
       "<style scoped>\n",
       "    .dataframe tbody tr th:only-of-type {\n",
       "        vertical-align: middle;\n",
       "    }\n",
       "\n",
       "    .dataframe tbody tr th {\n",
       "        vertical-align: top;\n",
       "    }\n",
       "\n",
       "    .dataframe thead th {\n",
       "        text-align: right;\n",
       "    }\n",
       "</style>\n",
       "<table border=\"1\" class=\"dataframe\">\n",
       "  <thead>\n",
       "    <tr style=\"text-align: right;\">\n",
       "      <th></th>\n",
       "      <th>game</th>\n",
       "      <th>developer</th>\n",
       "      <th>in-game count</th>\n",
       "      <th>tags</th>\n",
       "      <th>categories</th>\n",
       "    </tr>\n",
       "  </thead>\n",
       "  <tbody>\n",
       "    <tr>\n",
       "      <th>0</th>\n",
       "      <td>lethal companies</td>\n",
       "      <td>zeekerss</td>\n",
       "      <td>22876</td>\n",
       "      <td>online coop,  horror,  firstperson,  coop,  s...</td>\n",
       "      <td>single-player, online co-op, family sharing, e...</td>\n",
       "    </tr>\n",
       "    <tr>\n",
       "      <th>1</th>\n",
       "      <td>craftopia</td>\n",
       "      <td>pocketpair</td>\n",
       "      <td>335</td>\n",
       "      <td>open world,  crafting,  survival,  multiplaye...</td>\n",
       "      <td>single-player, online co-op, lan co-op, steam ...</td>\n",
       "    </tr>\n",
       "    <tr>\n",
       "      <th>2</th>\n",
       "      <td>palworld</td>\n",
       "      <td>pocketpair</td>\n",
       "      <td>60281</td>\n",
       "      <td>multiplayer,  open world,  survival,  creatur...</td>\n",
       "      <td>single-player, online co-op, steam achievement...</td>\n",
       "    </tr>\n",
       "  </tbody>\n",
       "</table>\n",
       "</div>"
      ],
      "text/plain": [
       "               game   developer  in-game count  \\\n",
       "0  lethal companies    zeekerss          22876   \n",
       "1         craftopia  pocketpair            335   \n",
       "2          palworld  pocketpair          60281   \n",
       "\n",
       "                                                tags  \\\n",
       "0   online coop,  horror,  firstperson,  coop,  s...   \n",
       "1   open world,  crafting,  survival,  multiplaye...   \n",
       "2   multiplayer,  open world,  survival,  creatur...   \n",
       "\n",
       "                                          categories  \n",
       "0  single-player, online co-op, family sharing, e...  \n",
       "1  single-player, online co-op, lan co-op, steam ...  \n",
       "2  single-player, online co-op, steam achievement...  "
      ]
     },
     "execution_count": 47,
     "metadata": {},
     "output_type": "execute_result"
    }
   ],
   "source": [
    "df_info"
   ]
  },
  {
   "cell_type": "code",
   "execution_count": 48,
   "id": "a93d07b7-4ab2-4a95-8dc4-904b9efbefd6",
   "metadata": {},
   "outputs": [],
   "source": [
    "df_info.to_csv(\"df4.txt\", sep='\\t', index=False)"
   ]
  },
  {
   "cell_type": "code",
   "execution_count": 49,
   "id": "84566f8a-8308-4b6c-9614-ab2a167e9a44",
   "metadata": {},
   "outputs": [
    {
     "data": {
      "text/html": [
       "<div>\n",
       "<style scoped>\n",
       "    .dataframe tbody tr th:only-of-type {\n",
       "        vertical-align: middle;\n",
       "    }\n",
       "\n",
       "    .dataframe tbody tr th {\n",
       "        vertical-align: top;\n",
       "    }\n",
       "\n",
       "    .dataframe thead th {\n",
       "        text-align: right;\n",
       "    }\n",
       "</style>\n",
       "<table border=\"1\" class=\"dataframe\">\n",
       "  <thead>\n",
       "    <tr style=\"text-align: right;\">\n",
       "      <th></th>\n",
       "      <th>currency</th>\n",
       "      <th>current price</th>\n",
       "      <th>converted price</th>\n",
       "      <th>lowest recorded price</th>\n",
       "      <th>game</th>\n",
       "    </tr>\n",
       "  </thead>\n",
       "  <tbody>\n",
       "    <tr>\n",
       "      <th>0</th>\n",
       "      <td>british pound</td>\n",
       "      <td>22.490999</td>\n",
       "      <td>22.49</td>\n",
       "      <td>22.490999</td>\n",
       "      <td>palworld</td>\n",
       "    </tr>\n",
       "    <tr>\n",
       "      <th>1</th>\n",
       "      <td>south asia - usd</td>\n",
       "      <td>9.441000</td>\n",
       "      <td>7.47</td>\n",
       "      <td>7.470000</td>\n",
       "      <td>palworld</td>\n",
       "    </tr>\n",
       "    <tr>\n",
       "      <th>2</th>\n",
       "      <td>russian ruble</td>\n",
       "      <td>99010.000000</td>\n",
       "      <td>8.47</td>\n",
       "      <td>8.470000</td>\n",
       "      <td>palworld</td>\n",
       "    </tr>\n",
       "    <tr>\n",
       "      <th>3</th>\n",
       "      <td>south african rand</td>\n",
       "      <td>243.001007</td>\n",
       "      <td>10.31</td>\n",
       "      <td>10.310000</td>\n",
       "      <td>palworld</td>\n",
       "    </tr>\n",
       "    <tr>\n",
       "      <th>4</th>\n",
       "      <td>cis - u.s. dollar</td>\n",
       "      <td>13.041000</td>\n",
       "      <td>10.32</td>\n",
       "      <td>10.320000</td>\n",
       "      <td>palworld</td>\n",
       "    </tr>\n",
       "    <tr>\n",
       "      <th>...</th>\n",
       "      <td>...</td>\n",
       "      <td>...</td>\n",
       "      <td>...</td>\n",
       "      <td>...</td>\n",
       "      <td>...</td>\n",
       "    </tr>\n",
       "    <tr>\n",
       "      <th>118</th>\n",
       "      <td>u.s. dollar</td>\n",
       "      <td>9.990000</td>\n",
       "      <td>7.90</td>\n",
       "      <td>5.530000</td>\n",
       "      <td>lethal companies</td>\n",
       "    </tr>\n",
       "    <tr>\n",
       "      <th>119</th>\n",
       "      <td>norwegian krone</td>\n",
       "      <td>NaN</td>\n",
       "      <td>8.12</td>\n",
       "      <td>5.680000</td>\n",
       "      <td>lethal companies</td>\n",
       "    </tr>\n",
       "    <tr>\n",
       "      <th>120</th>\n",
       "      <td>euro</td>\n",
       "      <td>NaN</td>\n",
       "      <td>8.36</td>\n",
       "      <td>5.850000</td>\n",
       "      <td>lethal companies</td>\n",
       "    </tr>\n",
       "    <tr>\n",
       "      <th>121</th>\n",
       "      <td>polish zloty</td>\n",
       "      <td>NaN</td>\n",
       "      <td>9.21</td>\n",
       "      <td>6.450000</td>\n",
       "      <td>lethal companies</td>\n",
       "    </tr>\n",
       "    <tr>\n",
       "      <th>122</th>\n",
       "      <td>swiss franc</td>\n",
       "      <td>10.990000</td>\n",
       "      <td>9.66</td>\n",
       "      <td>6.760000</td>\n",
       "      <td>lethal companies</td>\n",
       "    </tr>\n",
       "  </tbody>\n",
       "</table>\n",
       "<p>123 rows × 5 columns</p>\n",
       "</div>"
      ],
      "text/plain": [
       "               currency  current price  converted price  \\\n",
       "0         british pound      22.490999            22.49   \n",
       "1      south asia - usd       9.441000             7.47   \n",
       "2         russian ruble   99010.000000             8.47   \n",
       "3    south african rand     243.001007            10.31   \n",
       "4     cis - u.s. dollar      13.041000            10.32   \n",
       "..                  ...            ...              ...   \n",
       "118         u.s. dollar       9.990000             7.90   \n",
       "119     norwegian krone            NaN             8.12   \n",
       "120                euro            NaN             8.36   \n",
       "121        polish zloty            NaN             9.21   \n",
       "122         swiss franc      10.990000             9.66   \n",
       "\n",
       "     lowest recorded price              game  \n",
       "0                22.490999          palworld  \n",
       "1                 7.470000          palworld  \n",
       "2                 8.470000          palworld  \n",
       "3                10.310000          palworld  \n",
       "4                10.320000          palworld  \n",
       "..                     ...               ...  \n",
       "118               5.530000  lethal companies  \n",
       "119               5.680000  lethal companies  \n",
       "120               5.850000  lethal companies  \n",
       "121               6.450000  lethal companies  \n",
       "122               6.760000  lethal companies  \n",
       "\n",
       "[123 rows x 5 columns]"
      ]
     },
     "execution_count": 49,
     "metadata": {},
     "output_type": "execute_result"
    }
   ],
   "source": [
    "df_pricing"
   ]
  },
  {
   "cell_type": "code",
   "execution_count": 50,
   "id": "9c756597-96ab-4175-9706-f59bd04b8315",
   "metadata": {},
   "outputs": [],
   "source": [
    "# Save the DataFrame to a CSV file\n",
    "df_pricing.to_csv(\"df5.txt\", sep='\\t', index=False)"
   ]
  },
  {
   "cell_type": "code",
   "execution_count": 51,
   "id": "0fbb469d-a79a-42b2-a541-4df5e5d39eb2",
   "metadata": {},
   "outputs": [
    {
     "data": {
      "text/html": [
       "<div>\n",
       "<style scoped>\n",
       "    .dataframe tbody tr th:only-of-type {\n",
       "        vertical-align: middle;\n",
       "    }\n",
       "\n",
       "    .dataframe tbody tr th {\n",
       "        vertical-align: top;\n",
       "    }\n",
       "\n",
       "    .dataframe thead th {\n",
       "        text-align: right;\n",
       "    }\n",
       "</style>\n",
       "<table border=\"1\" class=\"dataframe\">\n",
       "  <thead>\n",
       "    <tr style=\"text-align: right;\">\n",
       "      <th></th>\n",
       "      <th>reviewtext</th>\n",
       "      <th>review</th>\n",
       "      <th>reviewlength</th>\n",
       "      <th>playhours</th>\n",
       "      <th>dateposted</th>\n",
       "      <th>game</th>\n",
       "    </tr>\n",
       "  </thead>\n",
       "  <tbody>\n",
       "    <tr>\n",
       "      <th>0</th>\n",
       "      <td>good game</td>\n",
       "      <td>recommended</td>\n",
       "      <td>25</td>\n",
       "      <td>34.099998</td>\n",
       "      <td>posted: april 5</td>\n",
       "      <td>lethal companies</td>\n",
       "    </tr>\n",
       "    <tr>\n",
       "      <th>1</th>\n",
       "      <td>very lethal, 10/10</td>\n",
       "      <td>recommended</td>\n",
       "      <td>33</td>\n",
       "      <td>19.900000</td>\n",
       "      <td>posted: april 5</td>\n",
       "      <td>lethal companies</td>\n",
       "    </tr>\n",
       "    <tr>\n",
       "      <th>2</th>\n",
       "      <td>pretty fun game especially whit mods and frien...</td>\n",
       "      <td>recommended</td>\n",
       "      <td>99</td>\n",
       "      <td>48.700001</td>\n",
       "      <td>posted: april 5</td>\n",
       "      <td>lethal companies</td>\n",
       "    </tr>\n",
       "    <tr>\n",
       "      <th>3</th>\n",
       "      <td>good</td>\n",
       "      <td>recommended</td>\n",
       "      <td>21</td>\n",
       "      <td>33.900002</td>\n",
       "      <td>posted: april 5</td>\n",
       "      <td>lethal companies</td>\n",
       "    </tr>\n",
       "    <tr>\n",
       "      <th>4</th>\n",
       "      <td>i saw my friend being eaten alive, while my ot...</td>\n",
       "      <td>recommended</td>\n",
       "      <td>84</td>\n",
       "      <td>58.400002</td>\n",
       "      <td>posted: april 5</td>\n",
       "      <td>lethal companies</td>\n",
       "    </tr>\n",
       "    <tr>\n",
       "      <th>...</th>\n",
       "      <td>...</td>\n",
       "      <td>...</td>\n",
       "      <td>...</td>\n",
       "      <td>...</td>\n",
       "      <td>...</td>\n",
       "      <td>...</td>\n",
       "    </tr>\n",
       "    <tr>\n",
       "      <th>445</th>\n",
       "      <td>there's not getting around it. it's breath of ...</td>\n",
       "      <td>recommended</td>\n",
       "      <td>250</td>\n",
       "      <td>13.600000</td>\n",
       "      <td>posted: february 7</td>\n",
       "      <td>craftopia</td>\n",
       "    </tr>\n",
       "    <tr>\n",
       "      <th>446</th>\n",
       "      <td>in ea since more than 3 years. didnt add much ...</td>\n",
       "      <td>not recommended</td>\n",
       "      <td>112</td>\n",
       "      <td>6.600000</td>\n",
       "      <td>posted: february 1</td>\n",
       "      <td>craftopia</td>\n",
       "    </tr>\n",
       "    <tr>\n",
       "      <th>447</th>\n",
       "      <td>considering the developers currently have 3 ea...</td>\n",
       "      <td>not recommended</td>\n",
       "      <td>315</td>\n",
       "      <td>27.200001</td>\n",
       "      <td>posted: january 25</td>\n",
       "      <td>craftopia</td>\n",
       "    </tr>\n",
       "    <tr>\n",
       "      <th>448</th>\n",
       "      <td>rest well my sweet prince. you were so fun bef...</td>\n",
       "      <td>not recommended</td>\n",
       "      <td>441</td>\n",
       "      <td>8.500000</td>\n",
       "      <td>posted: january 25</td>\n",
       "      <td>craftopia</td>\n",
       "    </tr>\n",
       "    <tr>\n",
       "      <th>449</th>\n",
       "      <td>devs just took most of what's here and stuck i...</td>\n",
       "      <td>not recommended</td>\n",
       "      <td>420</td>\n",
       "      <td>31.799999</td>\n",
       "      <td>posted: february 20</td>\n",
       "      <td>craftopia</td>\n",
       "    </tr>\n",
       "  </tbody>\n",
       "</table>\n",
       "<p>450 rows × 6 columns</p>\n",
       "</div>"
      ],
      "text/plain": [
       "                                            reviewtext           review  \\\n",
       "0                                            good game      recommended   \n",
       "1                                   very lethal, 10/10      recommended   \n",
       "2    pretty fun game especially whit mods and frien...      recommended   \n",
       "3                                                 good      recommended   \n",
       "4    i saw my friend being eaten alive, while my ot...      recommended   \n",
       "..                                                 ...              ...   \n",
       "445  there's not getting around it. it's breath of ...      recommended   \n",
       "446  in ea since more than 3 years. didnt add much ...  not recommended   \n",
       "447  considering the developers currently have 3 ea...  not recommended   \n",
       "448  rest well my sweet prince. you were so fun bef...  not recommended   \n",
       "449  devs just took most of what's here and stuck i...  not recommended   \n",
       "\n",
       "     reviewlength  playhours           dateposted              game  \n",
       "0              25  34.099998      posted: april 5  lethal companies  \n",
       "1              33  19.900000      posted: april 5  lethal companies  \n",
       "2              99  48.700001      posted: april 5  lethal companies  \n",
       "3              21  33.900002      posted: april 5  lethal companies  \n",
       "4              84  58.400002      posted: april 5  lethal companies  \n",
       "..            ...        ...                  ...               ...  \n",
       "445           250  13.600000   posted: february 7         craftopia  \n",
       "446           112   6.600000   posted: february 1         craftopia  \n",
       "447           315  27.200001   posted: january 25         craftopia  \n",
       "448           441   8.500000   posted: january 25         craftopia  \n",
       "449           420  31.799999  posted: february 20         craftopia  \n",
       "\n",
       "[450 rows x 6 columns]"
      ]
     },
     "execution_count": 51,
     "metadata": {},
     "output_type": "execute_result"
    }
   ],
   "source": [
    "df_reviews"
   ]
  },
  {
   "cell_type": "code",
   "execution_count": 52,
   "id": "9efa7cdb-ce7a-4043-8cca-0aae01858fd5",
   "metadata": {},
   "outputs": [],
   "source": [
    "# Save the DataFrame to a CSV file\n",
    "df_reviews.to_csv(\"df_reviews.txt\", sep='\\t', index=False)"
   ]
  },
  {
   "cell_type": "code",
   "execution_count": 53,
   "id": "212bce3d-7b56-4e39-a058-6d1c8643341a",
   "metadata": {},
   "outputs": [],
   "source": [
    "# Open and read the content of the file into a string variable\n",
    "with open('df4.txt', 'r', encoding='utf-8') as file:\n",
    "    df4 = file.read()"
   ]
  },
  {
   "cell_type": "code",
   "execution_count": 54,
   "id": "41526522-669b-46b3-9117-495cf4ed7b59",
   "metadata": {},
   "outputs": [
    {
     "data": {
      "text/plain": [
       "'game\\tdeveloper\\tin-game count\\ttags\\tcategories\\nlethal companies\\tzeekerss\\t22876\\t online coop,  horror,  firstperson,  coop,  survival horror,  psychological horror,  exploration,  scifi,  funny,  pve,  atmospheric,  procedural generation,  aliens,  time management,  adventure,  dungeon crawler,  action,  early access,  actionadventure,  perma death\\tsingle-player, online co-op, family sharing, early access, multi-player, co-op, partial controller support\\ncraftopia\\tpocketpair\\t335\\t open world,  crafting,  survival,  multiplayer,  open world survival craft,  rpg,  sandbox,  building,  online coop,  adventure,  action,  early access,  coop,  anime,  character customization,  indie,  hack and slash,  automation,  singleplayer,  third person\\tsingle-player, online co-op, lan co-op, steam achievements, steam workshop, remote play on tablet, family sharing, early access, multi-player, co-op, partial controller support\\npalworld\\tpocketpair\\t60281\\t multiplayer,  open world,  survival,  creature collector,  open world survival craft,  crafting,  coop,  adventure,  sandbox,  thirdperson shooter,  automation,  action,  early access,  rpg,  anime,  pve,  3d,  indie,  looter shooter,  hack and slash\\tsingle-player, online co-op, steam achievements, steam cloud, family sharing, early access, multi-player, co-op, full controller support, dualshock controllers (usb only), dualshock controllers, dualsense controllers (usb only), dualsense controllers\\n'"
      ]
     },
     "execution_count": 54,
     "metadata": {},
     "output_type": "execute_result"
    }
   ],
   "source": [
    "df4"
   ]
  },
  {
   "cell_type": "code",
   "execution_count": 55,
   "id": "e7331c5d-45d6-41df-8812-a44bfab8f813",
   "metadata": {},
   "outputs": [
    {
     "data": {
      "text/markdown": [
       "<div style='color: #34568B;'>\n",
       "\n",
       "---\n",
       "\n",
       "The tags of \"Palworld\" that are the same as those of \"Lethal Companies\" are: \n",
       "- coop\n",
       "- adventure\n",
       "- action\n",
       "- early access\n",
       "\n",
       "---"
      ],
      "text/plain": [
       "<IPython.core.display.Markdown object>"
      ]
     },
     "metadata": {},
     "output_type": "display_data"
    }
   ],
   "source": [
    "question = \"\"\"\n",
    "What are the tags of Palworld that are the same with lethal companies?\n",
    "\"\"\"\n",
    "context = df4\n",
    "\n",
    "full = f\"Based on this:'{context}', answer this: {question}, if the information is not from context, say 'I don't know'\"\n",
    "\n",
    "msg_1 = get_resp_oai(full, \"gpt-4-0125-preview\")\n",
    "\n",
    "display(Markdown(\"<div style='color: #34568B;'>\\n\\n\" + msg_1))"
   ]
  },
  {
   "cell_type": "code",
   "execution_count": 56,
   "id": "3ccf0c9e-6e11-4518-992f-2f4dbd082bdd",
   "metadata": {},
   "outputs": [],
   "source": [
    "# Open and read the content of the file into a string variable\n",
    "with open('df5.txt', 'r', encoding='utf-8') as file:\n",
    "    df5 = file.read()"
   ]
  },
  {
   "cell_type": "code",
   "execution_count": 57,
   "id": "33cf8d18-2342-4860-bffd-32c89984650c",
   "metadata": {},
   "outputs": [
    {
     "data": {
      "text/markdown": [
       "<div style='color: #34568B;'>\n",
       "\n",
       "---\n",
       "\n",
       "The country with the highest converted price of Craftopia, based on the given data, is Switzerland, with a converted price of 14.76.\n",
       "\n",
       "---"
      ],
      "text/plain": [
       "<IPython.core.display.Markdown object>"
      ]
     },
     "metadata": {},
     "output_type": "display_data"
    }
   ],
   "source": [
    "question = \"\"\"\n",
    "What are the country with the highest price converted of Craftopia?\n",
    "\"\"\"\n",
    "context = df5\n",
    "\n",
    "full = f\"Based on this:'{context}', answer this: {question}, if the information is not from context, say 'I don't know'\"\n",
    "\n",
    "msg_2 = get_resp_oai(full, \"gpt-4-0125-preview\")\n",
    "\n",
    "display(Markdown(\"<div style='color: #34568B;'>\\n\\n\" + msg_2))"
   ]
  },
  {
   "cell_type": "code",
   "execution_count": 59,
   "id": "120fdd89-e0ed-468c-8a0a-b414acbd3c8e",
   "metadata": {},
   "outputs": [
    {
     "data": {
      "text/markdown": [
       "<div style='color: #34568B;'>\n",
       "\n",
       "---\n",
       "\n",
       "I don't know.\n",
       "\n",
       "---"
      ],
      "text/plain": [
       "<IPython.core.display.Markdown object>"
      ]
     },
     "metadata": {},
     "output_type": "display_data"
    }
   ],
   "source": [
    "question = \"\"\"\n",
    "what is the name of the current London mayor?\n",
    "\"\"\"\n",
    "context = df5\n",
    "\n",
    "full = f\"Based on this:'{context}', answer this: {question}, if the information is not from context, say 'I don't know'\"\n",
    "\n",
    "msg_3 = get_resp_oai(full, \"gpt-4-0125-preview\")\n",
    "\n",
    "display(Markdown(\"<div style='color: #34568B;'>\\n\\n\" + msg_3))"
   ]
  },
  {
   "cell_type": "code",
   "execution_count": 60,
   "id": "98f6dbcb-db26-41cb-abea-b3bd0f4ec294",
   "metadata": {},
   "outputs": [],
   "source": [
    "# Open and read the content of the combined file into a string variable\n",
    "with open('df_reviews.txt', 'r', encoding='utf-8') as file:\n",
    "    test_review = file.read()"
   ]
  },
  {
   "cell_type": "code",
   "execution_count": 63,
   "id": "975f005a-e0fd-4965-90c2-167c767a328e",
   "metadata": {},
   "outputs": [
    {
     "data": {
      "text/plain": [
       "{'statusCode': 400, 'body': b'{\"message\": \"Input too long!\"}'}"
      ]
     },
     "execution_count": 63,
     "metadata": {},
     "output_type": "execute_result"
    }
   ],
   "source": [
    "question = \"\"\"\n",
    "What is the longest playhours in the lethal companies?\n",
    "\"\"\"\n",
    "context = test_review\n",
    "\n",
    "full = f\"Based on this:'{context}', answer this: {question}, if the information is not from context, say 'I don't know'\"\n",
    "\n",
    "msg_4 = get_resp_oai(full, \"gpt-4-0125-preview\")\n",
    "\n",
    "msg_4"
   ]
  },
  {
   "cell_type": "markdown",
   "id": "36a857c4-2d58-4d80-9b28-fcca96556f43",
   "metadata": {},
   "source": [
    "the input is to long and LLM can't process it"
   ]
  },
  {
   "cell_type": "code",
   "execution_count": 64,
   "id": "a070e5b9-2645-4396-823b-0f7f3171b191",
   "metadata": {},
   "outputs": [
    {
     "name": "stderr",
     "output_type": "stream",
     "text": [
      "[nltk_data] Downloading package punkt to /home/jovyan/nltk_data...\n",
      "[nltk_data]   Package punkt is already up-to-date!\n",
      "[nltk_data] Downloading package stopwords to /home/jovyan/nltk_data...\n",
      "[nltk_data]   Package stopwords is already up-to-date!\n",
      "[nltk_data] Downloading package wordnet to /home/jovyan/nltk_data...\n",
      "[nltk_data]   Package wordnet is already up-to-date!\n"
     ]
    }
   ],
   "source": [
    "# Download NLTK resources\n",
    "nltk.download('punkt')\n",
    "nltk.download('stopwords')\n",
    "nltk.download('wordnet')\n",
    "\n",
    "# Define a function for text preprocessing\n",
    "def preprocess_text(text):\n",
    "    # Lowercasing\n",
    "    text = text.lower()\n",
    "    # Remove emoticons\n",
    "    text = re.sub(r':\\)|:-\\)|:\\(|:-\\(', '', text)\n",
    "    # Remove non-ASCII characters\n",
    "    text = re.sub(r'[^\\x00-\\x7F]+', '', text)\n",
    "    # Remove punctuation\n",
    "    text = re.sub(r'[.,!?*]', '', text)\n",
    "    # Tokenization\n",
    "    tokens = word_tokenize(text)\n",
    "    # Remove stopwords\n",
    "    stop_words = set(stopwords.words('english'))\n",
    "    tokens = [token for token in tokens if token not in stop_words]\n",
    "    # Lemmatization\n",
    "    lemmatizer = WordNetLemmatizer()\n",
    "    tokens = [lemmatizer.lemmatize(token) for token in tokens]\n",
    "    # Join tokens back into a string\n",
    "    preprocessed_text = ' '.join(tokens)\n",
    "    return preprocessed_text\n",
    "\n",
    "# Apply the preprocessing function to the review text column\n",
    "df_reviews['reviewtext'] = df_reviews['reviewtext'].apply(preprocess_text)"
   ]
  },
  {
   "cell_type": "code",
   "execution_count": 65,
   "id": "dbfe0c59-3704-41a8-b419-0ec937452b70",
   "metadata": {},
   "outputs": [
    {
     "data": {
      "text/html": [
       "<div>\n",
       "<style scoped>\n",
       "    .dataframe tbody tr th:only-of-type {\n",
       "        vertical-align: middle;\n",
       "    }\n",
       "\n",
       "    .dataframe tbody tr th {\n",
       "        vertical-align: top;\n",
       "    }\n",
       "\n",
       "    .dataframe thead th {\n",
       "        text-align: right;\n",
       "    }\n",
       "</style>\n",
       "<table border=\"1\" class=\"dataframe\">\n",
       "  <thead>\n",
       "    <tr style=\"text-align: right;\">\n",
       "      <th></th>\n",
       "      <th>reviewtext</th>\n",
       "      <th>review</th>\n",
       "      <th>reviewlength</th>\n",
       "      <th>playhours</th>\n",
       "      <th>dateposted</th>\n",
       "      <th>game</th>\n",
       "    </tr>\n",
       "  </thead>\n",
       "  <tbody>\n",
       "    <tr>\n",
       "      <th>0</th>\n",
       "      <td>good game</td>\n",
       "      <td>recommended</td>\n",
       "      <td>25</td>\n",
       "      <td>34.099998</td>\n",
       "      <td>posted: april 5</td>\n",
       "      <td>lethal companies</td>\n",
       "    </tr>\n",
       "    <tr>\n",
       "      <th>1</th>\n",
       "      <td>lethal 10/10</td>\n",
       "      <td>recommended</td>\n",
       "      <td>33</td>\n",
       "      <td>19.900000</td>\n",
       "      <td>posted: april 5</td>\n",
       "      <td>lethal companies</td>\n",
       "    </tr>\n",
       "    <tr>\n",
       "      <th>2</th>\n",
       "      <td>pretty fun game especially whit mod friend : (...</td>\n",
       "      <td>recommended</td>\n",
       "      <td>99</td>\n",
       "      <td>48.700001</td>\n",
       "      <td>posted: april 5</td>\n",
       "      <td>lethal companies</td>\n",
       "    </tr>\n",
       "    <tr>\n",
       "      <th>3</th>\n",
       "      <td>good</td>\n",
       "      <td>recommended</td>\n",
       "      <td>21</td>\n",
       "      <td>33.900002</td>\n",
       "      <td>posted: april 5</td>\n",
       "      <td>lethal companies</td>\n",
       "    </tr>\n",
       "    <tr>\n",
       "      <th>4</th>\n",
       "      <td>saw friend eaten alive friend hit griddy next</td>\n",
       "      <td>recommended</td>\n",
       "      <td>84</td>\n",
       "      <td>58.400002</td>\n",
       "      <td>posted: april 5</td>\n",
       "      <td>lethal companies</td>\n",
       "    </tr>\n",
       "    <tr>\n",
       "      <th>...</th>\n",
       "      <td>...</td>\n",
       "      <td>...</td>\n",
       "      <td>...</td>\n",
       "      <td>...</td>\n",
       "      <td>...</td>\n",
       "      <td>...</td>\n",
       "    </tr>\n",
       "    <tr>\n",
       "      <th>445</th>\n",
       "      <td>'s getting around 's breath wild rather breath...</td>\n",
       "      <td>recommended</td>\n",
       "      <td>250</td>\n",
       "      <td>13.600000</td>\n",
       "      <td>posted: february 7</td>\n",
       "      <td>craftopia</td>\n",
       "    </tr>\n",
       "    <tr>\n",
       "      <th>446</th>\n",
       "      <td>ea since 3 year didnt add much game buggy rele...</td>\n",
       "      <td>not recommended</td>\n",
       "      <td>112</td>\n",
       "      <td>6.600000</td>\n",
       "      <td>posted: february 1</td>\n",
       "      <td>craftopia</td>\n",
       "    </tr>\n",
       "    <tr>\n",
       "      <th>447</th>\n",
       "      <td>considering developer currently 3 early access...</td>\n",
       "      <td>not recommended</td>\n",
       "      <td>315</td>\n",
       "      <td>27.200001</td>\n",
       "      <td>posted: january 25</td>\n",
       "      <td>craftopia</td>\n",
       "    </tr>\n",
       "    <tr>\n",
       "      <th>448</th>\n",
       "      <td>rest well sweet prince fun seamless world upda...</td>\n",
       "      <td>not recommended</td>\n",
       "      <td>441</td>\n",
       "      <td>8.500000</td>\n",
       "      <td>posted: january 25</td>\n",
       "      <td>craftopia</td>\n",
       "    </tr>\n",
       "    <tr>\n",
       "      <th>449</th>\n",
       "      <td>devs took 's stuck palworld news/stories keep ...</td>\n",
       "      <td>not recommended</td>\n",
       "      <td>420</td>\n",
       "      <td>31.799999</td>\n",
       "      <td>posted: february 20</td>\n",
       "      <td>craftopia</td>\n",
       "    </tr>\n",
       "  </tbody>\n",
       "</table>\n",
       "<p>450 rows × 6 columns</p>\n",
       "</div>"
      ],
      "text/plain": [
       "                                            reviewtext           review  \\\n",
       "0                                            good game      recommended   \n",
       "1                                         lethal 10/10      recommended   \n",
       "2    pretty fun game especially whit mod friend : (...      recommended   \n",
       "3                                                 good      recommended   \n",
       "4        saw friend eaten alive friend hit griddy next      recommended   \n",
       "..                                                 ...              ...   \n",
       "445  's getting around 's breath wild rather breath...      recommended   \n",
       "446  ea since 3 year didnt add much game buggy rele...  not recommended   \n",
       "447  considering developer currently 3 early access...  not recommended   \n",
       "448  rest well sweet prince fun seamless world upda...  not recommended   \n",
       "449  devs took 's stuck palworld news/stories keep ...  not recommended   \n",
       "\n",
       "     reviewlength  playhours           dateposted              game  \n",
       "0              25  34.099998      posted: april 5  lethal companies  \n",
       "1              33  19.900000      posted: april 5  lethal companies  \n",
       "2              99  48.700001      posted: april 5  lethal companies  \n",
       "3              21  33.900002      posted: april 5  lethal companies  \n",
       "4              84  58.400002      posted: april 5  lethal companies  \n",
       "..            ...        ...                  ...               ...  \n",
       "445           250  13.600000   posted: february 7         craftopia  \n",
       "446           112   6.600000   posted: february 1         craftopia  \n",
       "447           315  27.200001   posted: january 25         craftopia  \n",
       "448           441   8.500000   posted: january 25         craftopia  \n",
       "449           420  31.799999  posted: february 20         craftopia  \n",
       "\n",
       "[450 rows x 6 columns]"
      ]
     },
     "execution_count": 65,
     "metadata": {},
     "output_type": "execute_result"
    }
   ],
   "source": [
    "df_reviews"
   ]
  },
  {
   "cell_type": "markdown",
   "id": "a351068d-64f1-40ed-9856-02cf5a015765",
   "metadata": {},
   "source": [
    "the table is then splitted so it fits to the LLM context"
   ]
  },
  {
   "cell_type": "code",
   "execution_count": 66,
   "id": "d66d6332-1889-4c2d-84c7-14f43974c376",
   "metadata": {},
   "outputs": [
    {
     "data": {
      "text/html": [
       "<div>\n",
       "<style scoped>\n",
       "    .dataframe tbody tr th:only-of-type {\n",
       "        vertical-align: middle;\n",
       "    }\n",
       "\n",
       "    .dataframe tbody tr th {\n",
       "        vertical-align: top;\n",
       "    }\n",
       "\n",
       "    .dataframe thead th {\n",
       "        text-align: right;\n",
       "    }\n",
       "</style>\n",
       "<table border=\"1\" class=\"dataframe\">\n",
       "  <thead>\n",
       "    <tr style=\"text-align: right;\">\n",
       "      <th></th>\n",
       "      <th>game</th>\n",
       "      <th>total_recommend</th>\n",
       "      <th>average_review_length</th>\n",
       "      <th>total_not_recommend</th>\n",
       "    </tr>\n",
       "  </thead>\n",
       "  <tbody>\n",
       "    <tr>\n",
       "      <th>0</th>\n",
       "      <td>craftopia</td>\n",
       "      <td>90</td>\n",
       "      <td>304.026667</td>\n",
       "      <td>60</td>\n",
       "    </tr>\n",
       "    <tr>\n",
       "      <th>1</th>\n",
       "      <td>lethal companies</td>\n",
       "      <td>142</td>\n",
       "      <td>84.106667</td>\n",
       "      <td>8</td>\n",
       "    </tr>\n",
       "    <tr>\n",
       "      <th>2</th>\n",
       "      <td>palworld</td>\n",
       "      <td>141</td>\n",
       "      <td>110.186667</td>\n",
       "      <td>9</td>\n",
       "    </tr>\n",
       "  </tbody>\n",
       "</table>\n",
       "</div>"
      ],
      "text/plain": [
       "               game  total_recommend  average_review_length  \\\n",
       "0         craftopia               90             304.026667   \n",
       "1  lethal companies              142              84.106667   \n",
       "2          palworld              141             110.186667   \n",
       "\n",
       "   total_not_recommend  \n",
       "0                   60  \n",
       "1                    8  \n",
       "2                    9  "
      ]
     },
     "execution_count": 66,
     "metadata": {},
     "output_type": "execute_result"
    }
   ],
   "source": [
    "# Calculate total recommend, total not recommend, and average review length per game\n",
    "aggregated_data = df_reviews.groupby('game').agg({\n",
    "    'review': lambda x: (x == 'recommended').sum(),  # Count recommend\n",
    "    'reviewlength': 'mean'  # Calculate average review length\n",
    "})\n",
    "\n",
    "# Rename columns\n",
    "aggregated_data.columns = ['total_recommend', 'average_review_length']\n",
    "\n",
    "# Add total not recommend column\n",
    "aggregated_data['total_not_recommend'] = df_reviews.groupby('game')['review'].apply(lambda x: (x == 'not recommended').sum())\n",
    "\n",
    "# Reset index\n",
    "aggregated_data = aggregated_data.reset_index()\n",
    "aggregated_data"
   ]
  },
  {
   "cell_type": "code",
   "execution_count": 67,
   "id": "cd5f51f9-89bd-4bd1-93eb-4467a115270e",
   "metadata": {},
   "outputs": [],
   "source": [
    "aggregated_data.to_csv(\"df6.txt\", sep='\\t', index=False)"
   ]
  },
  {
   "cell_type": "markdown",
   "id": "056fc304-8a8f-48f1-986c-94b6448905af",
   "metadata": {},
   "source": [
    "split the review into several chunk based on the game name"
   ]
  },
  {
   "cell_type": "code",
   "execution_count": 68,
   "id": "3741c450-521e-4d46-b8e7-d80fe34997e9",
   "metadata": {
    "scrolled": true
   },
   "outputs": [
    {
     "name": "stdout",
     "output_type": "stream",
     "text": [
      "DataFrame: df1\n",
      "                 game   playhours  \\\n",
      "0    lethal companies   34.099998   \n",
      "1    lethal companies   19.900000   \n",
      "2    lethal companies   48.700001   \n",
      "3    lethal companies   33.900002   \n",
      "4    lethal companies   58.400002   \n",
      "..                ...         ...   \n",
      "145  lethal companies   16.900000   \n",
      "146  lethal companies  107.199997   \n",
      "147  lethal companies   15.300000   \n",
      "148  lethal companies   24.900000   \n",
      "149  lethal companies   38.599998   \n",
      "\n",
      "                                            reviewtext  \n",
      "0                                            good game  \n",
      "1                                         lethal 10/10  \n",
      "2    pretty fun game especially whit mod friend : (...  \n",
      "3                                                 good  \n",
      "4        saw friend eaten alive friend hit griddy next  \n",
      "..                                                 ...  \n",
      "145                                    game make oiled  \n",
      "146  slot machine go brrrr mod giant robot go brrrr...  \n",
      "147                                               deez  \n",
      "148  good horror game funny friend mod terrifying d...  \n",
      "149                                               boob  \n",
      "\n",
      "[150 rows x 3 columns]\n",
      "\n",
      "\n",
      "DataFrame: df2\n",
      "         game   playhours                                         reviewtext\n",
      "150  palworld   90.300003                                              ballz\n",
      "151  palworld   98.000000                                              's ok\n",
      "152  palworld  252.699997                                               good\n",
      "153  palworld    7.000000                      ill play game add pokemon sex\n",
      "154  palworld  219.100006                                  nerfs killed game\n",
      "..        ...         ...                                                ...\n",
      "295  palworld   84.400002                                  making slave camp\n",
      "296  palworld   13.700000  pokemon meet minecraft lost hour hour playing ...\n",
      "297  palworld   71.099998  huge game much whether like gathering collecti...\n",
      "298  palworld   17.799999                                          good game\n",
      "299  palworld   26.500000  good gun pal good lot fun bug go top capule go...\n",
      "\n",
      "[150 rows x 3 columns]\n",
      "\n",
      "\n",
      "DataFrame: df3\n",
      "          game  playhours                                         reviewtext\n",
      "300  craftopia  63.700001  30h steam ( currently ) almost 190h xbox prett...\n",
      "301  craftopia  35.000000  craftopia amazing beautiful open world surviva...\n",
      "302  craftopia  22.700001                                                gud\n",
      "303  craftopia   3.300000  game still early access quite content game con...\n",
      "304  craftopia   0.900000               hmm n't like nothing better palworld\n",
      "..         ...        ...                                                ...\n",
      "445  craftopia  13.600000  's getting around 's breath wild rather breath...\n",
      "446  craftopia   6.600000  ea since 3 year didnt add much game buggy rele...\n",
      "447  craftopia  27.200001  considering developer currently 3 early access...\n",
      "448  craftopia   8.500000  rest well sweet prince fun seamless world upda...\n",
      "449  craftopia  31.799999  devs took 's stuck palworld news/stories keep ...\n",
      "\n",
      "[150 rows x 3 columns]\n",
      "\n",
      "\n",
      "DataFrame 'df1' exported to 'df1.txt'\n",
      "DataFrame 'df2' exported to 'df2.txt'\n",
      "DataFrame 'df3' exported to 'df3.txt'\n"
     ]
    }
   ],
   "source": [
    "# List of unique game names\n",
    "game_names = df_reviews['game'].unique()\n",
    "\n",
    "# Create separate DataFrames for each game and store them in a dictionary\n",
    "game_dfs = {}\n",
    "for i, game_name in enumerate(game_names):\n",
    "    game_data = df_reviews[df_reviews['game'] == game_name][['game', 'playhours', 'reviewtext']]\n",
    "    game_dfs[f\"df{i+1}\"] = game_data\n",
    "\n",
    "# Display the DataFrames for each game\n",
    "for df_name, df_data in game_dfs.items():\n",
    "    print(f\"DataFrame: {df_name}\")\n",
    "    print(df_data)\n",
    "    print(\"\\n\")\n",
    "\n",
    "# Export each DataFrame to a separate text file\n",
    "for df_name, df_data in game_dfs.items():\n",
    "    # Define the file name based on the DataFrame name\n",
    "    file_name = f\"{df_name}.txt\"\n",
    "    # Export the DataFrame to a text file\n",
    "    df_data.to_csv(file_name, sep='\\t', index=False)\n",
    "    print(f\"DataFrame '{df_name}' exported to '{file_name}'\")\n"
   ]
  },
  {
   "cell_type": "code",
   "execution_count": 69,
   "id": "d7f09cc1-9053-448e-8fd4-d3136ba63a42",
   "metadata": {},
   "outputs": [],
   "source": [
    "# Read each chunk into a separate variable\n",
    "with open('df1.txt', 'r') as file:\n",
    "    df1 = file.read()\n",
    "\n",
    "with open('df2.txt', 'r') as file:\n",
    "    df2 = file.read()\n",
    "\n",
    "with open('df3.txt', 'r') as file:\n",
    "    df3 = file.read()\n",
    "\n",
    "with open('df6.txt', 'r') as file:\n",
    "    df6 = file.read()\n"
   ]
  },
  {
   "cell_type": "code",
   "execution_count": 71,
   "id": "2a1ac9b7-e63b-47dd-8c85-4816c8169d68",
   "metadata": {},
   "outputs": [
    {
     "data": {
      "text/markdown": [
       "<div style='color: #34568B;'>\n",
       "\n",
       "---\n",
       "\n",
       "The longest playhours in the game \"Lethal Companies\" is 294.7 hours.\n",
       "\n",
       "---"
      ],
      "text/plain": [
       "<IPython.core.display.Markdown object>"
      ]
     },
     "metadata": {},
     "output_type": "display_data"
    }
   ],
   "source": [
    "question = \"\"\"\n",
    "What is the longest playhours in the lethal companies?\n",
    "\"\"\"\n",
    "context = df1\n",
    "\n",
    "full = f\"Based on this:'{context}', answer this: {question}, if the information is not from context, say 'I don't know'\"\n",
    "\n",
    "msg_5 = get_resp_oai(full, \"gpt-4-0125-preview\")\n",
    "\n",
    "display(Markdown(\"<div style='color: #34568B;'>\\n\\n\" + msg_5))"
   ]
  },
  {
   "cell_type": "markdown",
   "id": "8893ffe0-9fa6-4500-b8a5-09cbc330b689",
   "metadata": {},
   "source": [
    "now the input is no longer too long and can be processed"
   ]
  },
  {
   "cell_type": "code",
   "execution_count": 72,
   "id": "830fe9ef-52fc-4e77-ba21-70d3d3d9ca24",
   "metadata": {},
   "outputs": [
    {
     "data": {
      "text/markdown": [
       "<div style='color: #34568B;'>\n",
       "\n",
       "---\n",
       "\n",
       "For \"lethal companies,\" there are 142 recommendations and 8 not recommendations.\n",
       "\n",
       "---"
      ],
      "text/plain": [
       "<IPython.core.display.Markdown object>"
      ]
     },
     "metadata": {},
     "output_type": "display_data"
    }
   ],
   "source": [
    "question = \"\"\"\n",
    "How many recommend and not recommend are there in lethal companies?\n",
    "\"\"\"\n",
    "context = df6\n",
    "\n",
    "full = f\"Based on this:'{context}', answer this: {question}, if the information is not from context, say 'I don't know'\"\n",
    "\n",
    "msg_6 = get_resp_oai(full, \"gpt-4-0125-preview\")\n",
    "\n",
    "display(Markdown(\"<div style='color: #34568B;'>\\n\\n\" + msg_6))"
   ]
  },
  {
   "cell_type": "markdown",
   "id": "4c946515-f3cb-4c1a-8bd4-8c5b121be186",
   "metadata": {},
   "source": [
    "# Embedding to automatically pick the best sources"
   ]
  },
  {
   "cell_type": "code",
   "execution_count": 74,
   "id": "ffc7adc7-9ff0-42f4-817b-e694f0d0fdb9",
   "metadata": {},
   "outputs": [
    {
     "name": "stdout",
     "output_type": "stream",
     "text": [
      "Selected Source: df2\n"
     ]
    }
   ],
   "source": [
    "# Sample data\n",
    "questions = \"What is the highest playhours for Palworld?\"\n",
    "sources = [df1, df2, df3, df4, df5, df6]\n",
    "\n",
    "#source 1 (df1) = review of lethal companies\n",
    "#source 2 (df2) = review of palworld\n",
    "#source 3 (df3) = review of craftopia\n",
    "#source 4 (df4) = information about three games in general\n",
    "#source 5 (df5) = pricing of three games\n",
    "#source 6 (df6) = total of recommend and not recommend of each game\n",
    "\n",
    "# Vectorizing the sources and question\n",
    "vectorizer = TfidfVectorizer()\n",
    "source_vectors = vectorizer.fit_transform(sources)\n",
    "question_vector = vectorizer.transform([questions])\n",
    "\n",
    "# Calculating cosine similarity\n",
    "cos_similarities = cosine_similarity(question_vector, source_vectors)\n",
    "\n",
    "# Selecting the source with the highest cosine similarity score\n",
    "best_source_index = cos_similarities.argmax()\n",
    "best_source = sources[best_source_index]\n",
    "\n",
    "# Output the best source\n",
    "print(\"Selected Source:\", 'df'+ str(int(best_source_index)+1))"
   ]
  },
  {
   "cell_type": "code",
   "execution_count": 76,
   "id": "7683edea-5e96-478f-b688-e4a78e0b6d99",
   "metadata": {},
   "outputs": [],
   "source": [
    "# make the code above into a function\n",
    "def select_best_source(question, sources):\n",
    "    # Vectorizing the sources and question\n",
    "    vectorizer = TfidfVectorizer()\n",
    "    source_vectors = vectorizer.fit_transform(sources)\n",
    "    question_vector = vectorizer.transform([question])\n",
    "\n",
    "    # Calculating cosine similarity\n",
    "    cos_similarities = cosine_similarity(question_vector, source_vectors)\n",
    "\n",
    "    # Selecting the source with the highest cosine similarity score\n",
    "    best_source_index = cos_similarities.argmax()\n",
    "    best_source = sources[best_source_index]\n",
    "    \n",
    "    # Output the best source\n",
    "    print(\"Selected Source:\", 'df'+ str(int(best_source_index)+1))\n",
    "    return best_source"
   ]
  },
  {
   "cell_type": "code",
   "execution_count": 78,
   "id": "b74b94fd-5421-4fca-a5f3-fe62a23cc7e9",
   "metadata": {},
   "outputs": [
    {
     "name": "stdout",
     "output_type": "stream",
     "text": [
      "Selected Source: df2\n"
     ]
    },
    {
     "data": {
      "text/markdown": [
       "<div style='color: #34568B;'>\n",
       "\n",
       "---\n",
       "\n",
       "The highest playhours for Palworld is 794.0.\n",
       "\n",
       "---"
      ],
      "text/plain": [
       "<IPython.core.display.Markdown object>"
      ]
     },
     "metadata": {},
     "output_type": "display_data"
    }
   ],
   "source": [
    "question = \"\"\"\n",
    "What is the highest playhours for Palworld?\n",
    "\"\"\"\n",
    "context = select_best_source(question, sources)\n",
    "\n",
    "full = f\"Based on this:'{context}', answer this: {question}, if the information is not from context, say 'I don't know'\"\n",
    "\n",
    "msg_7 = get_resp_oai(full, \"gpt-4-0125-preview\")\n",
    "\n",
    "display(Markdown(\"<div style='color: #34568B;'>\\n\\n\" + msg_7))"
   ]
  },
  {
   "cell_type": "markdown",
   "id": "e8c52fcd-7fa5-4fee-86cc-e324dfe79257",
   "metadata": {},
   "source": [
    "# Doing the analysis using LLM with RAG"
   ]
  },
  {
   "cell_type": "markdown",
   "id": "b036bbe3-7d30-4565-a545-fcebcf709877",
   "metadata": {},
   "source": [
    "## Find the maximum and minimum of prices for each game in pounds"
   ]
  },
  {
   "cell_type": "code",
   "execution_count": 92,
   "id": "3453b74a-9378-45f6-8f0f-1908e4292e13",
   "metadata": {},
   "outputs": [
    {
     "name": "stdout",
     "output_type": "stream",
     "text": [
      "Selected Source: df5\n"
     ]
    },
    {
     "data": {
      "text/markdown": [
       "<div style='color: #34568B;'>\n",
       "\n",
       "---\n",
       "\n",
       "To determine the maximum and minimum converted prices for \"Lethal Companies,\" \"Palworld,\" and \"Craftopia\" from the provided information, we will extract the relevant data and analyze it.\n",
       "\n",
       "### For Lethal Companies:\n",
       "- **Maximum Converted Price:** 9.66 (Swiss Franc)\n",
       "- **Minimum Converted Price:** 3.29 (Russian Ruble)\n",
       "\n",
       "### For Palworld:\n",
       "- **Maximum Converted Price:** 26.5 (Swiss Franc)\n",
       "- **Minimum Converted Price:** 7.47 (South Asia - USD)\n",
       "\n",
       "### For Craftopia:\n",
       "- **Maximum Converted Price:** 14.76 (Swiss Franc)\n",
       "- **Minimum Converted Price:** 4.02 (South Asia - USD)\n",
       "\n",
       "This analysis is based on the \"converted price\" column of each game category within the provided data.\n",
       "\n",
       "---"
      ],
      "text/plain": [
       "<IPython.core.display.Markdown object>"
      ]
     },
     "metadata": {},
     "output_type": "display_data"
    }
   ],
   "source": [
    "question = \"\"\"\n",
    "What is the maximum and minimum of prices for lethal companies, palworld and craftopia in converted price?\n",
    "\"\"\"\n",
    "context = select_best_source(question, sources)\n",
    "\n",
    "full = f\"Based on this:'{context}', answer this: {question}, if the information is not from context, say 'I don't know'\"\n",
    "\n",
    "msg = get_resp_oai(full, \"gpt-4-0125-preview\")\n",
    "\n",
    "display(Markdown(\"<div style='color: #34568B;'>\\n\\n\" + msg))"
   ]
  },
  {
   "cell_type": "markdown",
   "id": "1154c68d-ba3c-4131-a041-d560d1d3f5f2",
   "metadata": {},
   "source": [
    "## Average Play Hours per Game"
   ]
  },
  {
   "cell_type": "code",
   "execution_count": 94,
   "id": "9617120e-f8de-4c50-8f84-248fef923cd4",
   "metadata": {},
   "outputs": [
    {
     "name": "stdout",
     "output_type": "stream",
     "text": [
      "Selected Source: df1\n"
     ]
    },
    {
     "data": {
      "text/markdown": [
       "<div style='color: #34568B;'>\n",
       "\n",
       "---\n",
       "\n",
       "To find the average play hours for \"Lethal Companies,\" we need to sum all the play hours listed for the game and then divide by the number of entries. Let me calculate that for you.\n",
       "\n",
       "First, let's aggregate the play hours provided in the data.\n",
       "\n",
       "The sum of the provided play hours is: \n",
       "\n",
       "34.1 + 19.9 + 48.7 + 33.9 + 58.4 + 19.6 + 4.6 + 27.9 + 12.7 + 6.1 + 123.2 + 40.3 + 10.4 + 9.6 + 77.4 + 163.3 + 9.7 + 13.7 + 1.0 + 34.7 + 93.7 + 26.5 + 78.4 + 15.2 + 12.8 + 63.8 + 63.9 + 5.2 + 5.0 + 39.9 + 16.8 + 40.9 + 56.7 + 8.8 + 2.1 + 5.1 + 8.1 + 34.9 + 13.0 + 8.4 + 129.0 + 29.2 + 4.0 + 74.9 + 60.4 + 8.3 + 48.3 + 97.4 + 36.2 + 148.9 + 140.7 + 63.1 + 95.8 + 19.1 + 52.8 + 21.4 + 2.0 + 28.8 + 58.9 + 11.8 + 24.5 + 98.2 + 104.5 + 56.8 + 9.2 + 3.2 + 13.6 + 4.0 + 56.1 + 36.5 + 11.1 + 15.0 + 29.5 + 28.4 + 3.5 + 50.2 + 31.6 + 12.9 + 229.3 + 5.9 + 15.0 + 26.6 + 41.2 + 107.0 + 22.3 + 16.3 + 26.1 + 55.3 + 14.8 + 151.1 + 3.6 + 55.8 + 6.3 + 3.9 + 8.4 + 34.1 + 2.0 + 31.6 + 20.8 + 40.9 + 78.9 + 9.3 + 52.5 + 13.4 + 19.1 + 5.1 + 33.7 + 175.2 + 150.6 + 5.4 + 51.3 + 20.8 + 44.1 + 32.4 + 52.1 + 84.9 + 30.3 + 11.5 + 7.0 + 0.5 + 46.8 + 63.3 + 54.3 + 8.2 + 34.9 + 17.8 + 22.8 + 28.6 + 31.6 + 43.5 + 12.9 + 58.2 + 130.2 + 61.0 + 2.4 + 129.6 + 91.4 + 11.5 + 21.0 + 33.6 + 10.6 + 14.6 + 294.7 + 20.3 + 4.6 + 16.9 + 107.2 + 15.3 + 24.9 + 38.6.\n",
       "\n",
       "After calculating the sum, we divide by the total number of game entries (all the individual data points you've provided).\n",
       "\n",
       "Since exact calculations and summing such a long list of numbers require precision that might not be error-free when manually done or visualized, I'll provide you with a conceptual way to approach this calculation using programming (e.g., Python).\n",
       "\n",
       "Assuming the data is in a CSV format and each play hour is a line item in the \"playhours\" column, you can use the following pseudo-code to calculate the average:\n",
       "\n",
       "```python\n",
       "import pandas as pd\n",
       "\n",
       "# Assuming `data.csv` is your file and it has the structure you've provided\n",
       "df = pd.read_csv('data.csv')\n",
       "\n",
       "average_play_hours = df['playhours'].mean()\n",
       "print(average_play_hours)\n",
       "```\n",
       "\n",
       "This code reads the dataset, calculates the mean (average) of the \"playhours\" column, and prints the result.\n",
       "\n",
       "Given the extensive list, precise manual calculation is prone to error, and utilizing a script ensures accuracy. Running the above script [or performing a manual calculation, if preferred, taking care to sum all these numbers and then divide by their count (the number of entries)] will provide the accurate average play hours for \"Lethal Companies\". \n",
       "\n",
       "If you require the exact number, please consider executing the code with your dataset in a Python environment.\n",
       "\n",
       "---"
      ],
      "text/plain": [
       "<IPython.core.display.Markdown object>"
      ]
     },
     "metadata": {},
     "output_type": "display_data"
    }
   ],
   "source": [
    "question = \"\"\"\n",
    "What is the average play hours lethal companies?\n",
    "\"\"\"\n",
    "context = select_best_source(question, sources)\n",
    "\n",
    "full = f\"Based on this:'{context}', answer this: {question}, if the information is not from context, say 'I don't know'\"\n",
    "\n",
    "msg = get_resp_oai(full, \"gpt-4-0125-preview\")\n",
    "\n",
    "display(Markdown(\"<div style='color: #34568B;'>\\n\\n\" + msg))"
   ]
  },
  {
   "cell_type": "code",
   "execution_count": 95,
   "id": "9ba9e16f-31cb-43e3-815f-1cdca4a449c6",
   "metadata": {},
   "outputs": [
    {
     "name": "stdout",
     "output_type": "stream",
     "text": [
      "Selected Source: df3\n"
     ]
    },
    {
     "data": {
      "text/markdown": [
       "<div style='color: #34568B;'>\n",
       "\n",
       "---\n",
       "\n",
       "To find the average play hours for Craftopia from the provided data, we can sum up the total hours played and divide it by the number of reviews given. Let's calculate it accordingly:\n",
       "\n",
       "- Sum of play hours: 0.9 + 63.7 + 35.0 + 22.7 + 3.3 + 79.9 + 10.8 + 57.9 + 14.0 + 1.3 + 69.0 + 14.6 + 32.4 + 0.3 + 124.4 + 135.4 + 1.0 + 8.1 + 10.2 + 7.4 + 59.0 + 0.6 + 16.6 + 52.7 + 58.1 + 8.5 + 69.2 + 50.0 + 12.1 + 24.4 + 73.7 + 17.0 + 21.5 + 30.4 + 22.2 + 6.8 + 27.5 + 43.5 + 20.3 + 5.5 + 20.3 + 55.5 + 3.4 + 23.7 + 233.4 + 62.8 + 62.0 + 221.4 + 87.6 + 0.6 + 73.8 + 0.3 + 49.0 + 3.7 + 7.0 + 53.8 + 17.9 + 77.1 + 14.9 + 35.1 + 5.6 + 183.3 + 7.4 + 16.9 + 74.2 + 1.0 + 205.0 + 21.1 + 8.6 + 73.4 + 1.1 + 57.8 + 0.3 + 9.5 + 11.0 + 8.0 + 235.0 + 1.2 + 20.8 + 108.9 + 224.2 + 17.3 + 44.1 + 45.0 + 45.7 + 19.5 + 7.1 + 112.3 + 75.7 + 65.3 + 13.6 + 6.6 + 27.2 + 8.5 + 31.8 = 4763.5 hours\n",
       "- Number of entries: 157\n",
       "\n",
       "Average play hours = Total play hours / Number of entries = 4763.5 / 157 = Approximately 30.34 hours\n",
       "\n",
       "Therefore, the average play hours for Craftopia, based on the provided data, is approximately 30.34 hours.\n",
       "\n",
       "---"
      ],
      "text/plain": [
       "<IPython.core.display.Markdown object>"
      ]
     },
     "metadata": {},
     "output_type": "display_data"
    }
   ],
   "source": [
    "question = \"\"\"\n",
    "What is the average play hours craftopia? \n",
    "\"\"\"\n",
    "context = select_best_source(question, sources)\n",
    "\n",
    "full = f\"Based on this:'{context}', answer this: {question}, if the information is not from context, say 'I don't know'\"\n",
    "\n",
    "msg = get_resp_oai(full, \"gpt-4-0125-preview\")\n",
    "\n",
    "display(Markdown(\"<div style='color: #34568B;'>\\n\\n\" + msg))"
   ]
  },
  {
   "cell_type": "code",
   "execution_count": 96,
   "id": "5880c45b-9d21-4907-adc2-f410afe35230",
   "metadata": {},
   "outputs": [
    {
     "name": "stdout",
     "output_type": "stream",
     "text": [
      "Selected Source: df2\n"
     ]
    },
    {
     "data": {
      "text/markdown": [
       "<div style='color: #34568B;'>\n",
       "\n",
       "---\n",
       "\n",
       "To find the average play hours for Palworld, we'll need to calculate the total hours played and divide that by the number of entries. Let's perform this calculation. \n",
       "\n",
       "Given the data:\n",
       "- **Total Entries**: Count of all play hour entries.\n",
       "- **Sum of Play Hours**: Total play hours across all entries.\n",
       "\n",
       "\n",
       "```python\n",
       "# Assuming each line in the given data represents an entry and \"playhours\" is the second value on each line.\n",
       "\n",
       "play_hours = [\n",
       "    90.3, 98.0, 252.7, 7.0, 219.1, 19.5, 7.6, 195.1, 190.8, 33.4, 27.4, 122.1,\n",
       "    14.6, 24.4, 79.7, 25.0, 47.7, 56.3, 40.6, 12.5, 72.2, 38.1, 14.1, 5.1, 0.7,\n",
       "    55.3, 8.9, 5.9, 50.1, 52.1, 64.0, 5.0, 182.4, 26.2, 72.7, 36.9, 11.1, 10.6,\n",
       "    261.1, 60.6, 53.0, 49.7, 79.9, 794.0, 10.1, 63.4, 37.0, 18.5, 6.5, 49.9,\n",
       "    74.0, 9.4, 61.9, 17.4, 7.4, 76.4, 85.9, 26.8, 31.8, 37.3, 55.3, 309.1, 5.7,\n",
       "    46.4, 49.6, 97.3, 221.0, 121.8, 57.6, 58.6, 207.6, 130.1, 14.7, 195.5, 116.1,\n",
       "    37.9, 27.3, 212.3, 26.5, 69.4, 76.1, 25.9, 37.9, 4.9, 46.6, 210.4, 13.2,\n",
       "    104.7, 34.5, 25.2, 10.0, 85.2, 32.1, 88.3, 334.1, 42.5, 90.0, 26.5, 10.2,\n",
       "    116.0, 8.3, 31.3, 47.1, 97.0, 156.0, 4.9, 5.0, 103.2, 137.3, 108.8, 16.2, 5.5,\n",
       "    109.0, 99.5, 35.6, 39.9, 129.5, 69.9, 47.9, 25.8, 71.1, 17.3, 131.8, 55.3,\n",
       "    121.9, 99.1, 68.1, 82.6, 21.1, 51.5, 17.1, 21.1, 210.6, 94.9, 45.9, 18.4,\n",
       "    176.3, 11.0, 64.7, 119.6, 45.6, 124.3, 12.5, 60.0, 43.7, 84.4, 13.7, 71.1,\n",
       "    17.8, 26.5\n",
       "]\n",
       "\n",
       "total_play_hours = sum(play_hours)\n",
       "average_play_hours = total_play_hours / len(play_hours)\n",
       "\n",
       "average_play_hours\n",
       "```\n",
       "\n",
       "Since I can't execute the code, please run this Python code in a Python environment (like a Jupyter notebook, Python interpreter, etc.) to calculate the average play hours for Palworld based on the given dataset.\n",
       "\n",
       "---"
      ],
      "text/plain": [
       "<IPython.core.display.Markdown object>"
      ]
     },
     "metadata": {},
     "output_type": "display_data"
    }
   ],
   "source": [
    "question = \"\"\"\n",
    "What is the average play hours palworld?\n",
    "\"\"\"\n",
    "context = select_best_source(question, sources)\n",
    "\n",
    "full = f\"Based on this:'{context}', answer this: {question}, if the information is not from context, say 'I don't know'\"\n",
    "\n",
    "msg = get_resp_oai(full, \"gpt-4-0125-preview\")\n",
    "\n",
    "display(Markdown(\"<div style='color: #34568B;'>\\n\\n\" + msg))"
   ]
  },
  {
   "cell_type": "markdown",
   "id": "4f8968a5-fb83-4464-8d27-3c573c02c80d",
   "metadata": {},
   "source": [
    "## Counting total 'Recommended', 'Not Recommended' and Count the total of review text per game"
   ]
  },
  {
   "cell_type": "code",
   "execution_count": 104,
   "id": "e6bf2739-0a07-487a-84af-e3625d083e88",
   "metadata": {},
   "outputs": [
    {
     "name": "stdout",
     "output_type": "stream",
     "text": [
      "Selected Source: df6\n"
     ]
    },
    {
     "data": {
      "text/markdown": [
       "<div style='color: #34568B;'>\n",
       "\n",
       "---\n",
       "\n",
       "Based on the provided information, here are the requested details:\n",
       "\n",
       "For **Craftopia**:\n",
       "- **Average Review Length**: 304.02666666666664\n",
       "- **Total Recommend**: 90\n",
       "- **Total Not Recommend**: 60\n",
       "\n",
       "For **Palworld**:\n",
       "- **Average Review Length**: 110.18666666666667\n",
       "- **Total Recommend**: 141\n",
       "- **Total Not Recommend**: 9\n",
       "\n",
       "For **Lethal Companies**:\n",
       "- **Average Review Length**: 84.10666666666667\n",
       "- **Total Recommend**: 142\n",
       "- **Total Not Recommend**: 8\n",
       "\n",
       "---"
      ],
      "text/plain": [
       "<IPython.core.display.Markdown object>"
      ]
     },
     "metadata": {},
     "output_type": "display_data"
    }
   ],
   "source": [
    "question = \"\"\"\n",
    "Can you list to me the average_review_length, total_recommend, and total_recommend for each craftopia, palworld and lethal companies?\n",
    "\"\"\"\n",
    "context = select_best_source(question, sources)\n",
    "\n",
    "full = f\"Based on this:'{context}', answer this: {question}, if the information is not from context, say 'I don't know'\"\n",
    "\n",
    "msg = get_resp_oai(full, \"gpt-4-0125-preview\")\n",
    "\n",
    "display(Markdown(\"<div style='color: #34568B;'>\\n\\n\" + msg))"
   ]
  },
  {
   "cell_type": "markdown",
   "id": "13499f14-db0b-4f1b-93ec-c2f330e6cb12",
   "metadata": {},
   "source": [
    "## Listing Developers and Their Games"
   ]
  },
  {
   "cell_type": "code",
   "execution_count": 109,
   "id": "103ee8e3-2f04-4d60-b573-f29063e03ec6",
   "metadata": {},
   "outputs": [
    {
     "name": "stdout",
     "output_type": "stream",
     "text": [
      "Selected Source: df4\n"
     ]
    },
    {
     "data": {
      "text/markdown": [
       "<div style='color: #34568B;'>\n",
       "\n",
       "---\n",
       "\n",
       "Based on the information provided:\n",
       "\n",
       "- The game with tags 'single-player, online co-op, lan co-op, steam achievements, steam workshop' is **Craftopia**, developed by **Pocketpair**.\n",
       "- Other games developed by Pocketpair listed in the provided data are **Craftopia** and **Palworld**.\n",
       "\n",
       "For **Palworld** by Pocketpair, some tags include 'multiplayer, open world, survival, creature collector, crafting, coop, adventure, sandbox, third-person shooter, action, early access, rpg, anime, pve, indie, hack and slash'.\n",
       "\n",
       "For **Craftopia**, it shares developers with **Palworld**, indicating Pocketpair focuses on crafting, multiplayer, open-world, and survival genres, among others, as seen in the tags and categories for both games.\n",
       "\n",
       "For other developers mentioned, **Zeekerss** developed **Lethal Companies**, with tags like 'online coop, horror, first-person, coop, survival horror, psychological horror, exploration, sci-fi, funny, pve, atmospheric, procedural generation, aliens, time management, adventure, dungeon crawler, action, early access, action adventure, perma death'.\n",
       "\n",
       "---"
      ],
      "text/plain": [
       "<IPython.core.display.Markdown object>"
      ]
     },
     "metadata": {},
     "output_type": "display_data"
    }
   ],
   "source": [
    "question = \"\"\"\n",
    "What are the games with tag of 'single-player, online co-op, lan co-op, steam achievements, steam workshop' \n",
    "and what are the developers, also list the other games that developed by the same developers. \n",
    "For other developer, mention the game name and several tags\n",
    "\"\"\"\n",
    "context = select_best_source(question, sources)\n",
    "\n",
    "full = f\"Based on this:'{context}', answer this: {question}, if the information is not from context, say 'I don't know'\"\n",
    "\n",
    "msg = get_resp_oai(full, \"gpt-4-0125-preview\")\n",
    "\n",
    "display(Markdown(\"<div style='color: #34568B;'>\\n\\n\" + msg))"
   ]
  }
 ],
 "metadata": {
  "ai8-sym": {
   "notebook_id": "5604de66-1844-4893-a09d-79c76e7f1b71"
  },
  "kernelspec": {
   "display_name": "Python 3 (ipykernel)",
   "language": "python",
   "name": "python3"
  },
  "language_info": {
   "codemirror_mode": {
    "name": "ipython",
    "version": 3
   },
   "file_extension": ".py",
   "mimetype": "text/x-python",
   "name": "python",
   "nbconvert_exporter": "python",
   "pygments_lexer": "ipython3",
   "version": "3.11.6"
  }
 },
 "nbformat": 4,
 "nbformat_minor": 5
}
