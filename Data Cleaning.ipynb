{
 "cells": [
  {
   "cell_type": "code",
   "execution_count": 1,
   "id": "c60d2dc4-3899-485d-9028-e4580c70ce6d",
   "metadata": {},
   "outputs": [],
   "source": [
    "#Import Relevant Libraries\n",
    "from pyspark.sql import SparkSession\n",
    "from pyspark.sql.functions import col\n",
    "from pyspark.sql.functions import regexp_replace\n",
    "from pyspark.sql.functions import monotonically_increasing_id\n",
    "from pyspark.sql.functions import lit\n",
    "from pyspark.sql.functions import regexp_replace, col, concat_ws, when, regexp_extract\n",
    "from pyspark.sql.functions import udf\n",
    "from pyspark.sql.types import StringType, FloatType"
   ]
  },
  {
   "cell_type": "markdown",
   "id": "2a65c077-fa69-431c-954e-52412d472286",
   "metadata": {},
   "source": [
    "# Clean The Review Data"
   ]
  },
  {
   "cell_type": "code",
   "execution_count": 57,
   "id": "245730d0-2db8-4980-81e1-4e13f074ed16",
   "metadata": {},
   "outputs": [],
   "source": [
    "# Initialize a SparkSession\n",
    "spark = SparkSession.builder \\\n",
    "    .appName(\"Data Cleaning with Spark\") \\\n",
    "    .getOrCreate()\n",
    "\n",
    "# Load the data into Spark DataFrames\n",
    "df_palworld = spark.read.option(\"header\", \"true\") \\\n",
    "                        .option(\"inferSchema\", \"true\") \\\n",
    "                        .option(\"multiLine\", \"true\") \\\n",
    "                        .option(\"quote\", \"\\\"\") \\\n",
    "                        .option(\"escape\", \"\\\"\") \\\n",
    "                        .csv('../Web Scraping/Palworld.csv')\n",
    "\n",
    "df_craftopia = spark.read.option(\"header\", \"true\") \\\n",
    "                        .option(\"inferSchema\", \"true\") \\\n",
    "                        .option(\"multiLine\", \"true\") \\\n",
    "                        .option(\"quote\", \"\\\"\") \\\n",
    "                        .option(\"escape\", \"\\\"\") \\\n",
    "                        .csv('../Web Scraping/Craftopia.csv', header=True, inferSchema=True)\n",
    "df_lethal = spark.read.option(\"header\", \"true\") \\\n",
    "                        .option(\"inferSchema\", \"true\") \\\n",
    "                        .option(\"multiLine\", \"true\") \\\n",
    "                        .option(\"quote\", \"\\\"\") \\\n",
    "                        .option(\"escape\", \"\\\"\") \\\n",
    "                        .csv('../Web Scraping/LethalCompany.csv', header=True, inferSchema=True)\n"
   ]
  },
  {
   "cell_type": "code",
   "execution_count": 58,
   "id": "ad1e1b83-744d-444f-a677-7389b96adad5",
   "metadata": {},
   "outputs": [
    {
     "name": "stdout",
     "output_type": "stream",
     "text": [
      "+--------------------+-----------+------------+-------------------+---------------+\n",
      "|          ReviewText|     Review|ReviewLength|          PlayHours|     DatePosted|\n",
      "+--------------------+-----------+------------+-------------------+---------------+\n",
      "|              i like|Recommended|          22| 25.8 hrs on record|Posted: 5 April|\n",
      "|  Pokemon but better|Recommended|          33| 10.1 hrs on record|Posted: 5 April|\n",
      "|           good game|Recommended|          25| 17.8 hrs on record|Posted: 5 April|\n",
      "|You can kidnap pe...|Recommended|          37|  5.0 hrs on record|Posted: 5 April|\n",
      "|           Fun game.|Recommended|          25|122.1 hrs on record|Posted: 5 April|\n",
      "|                 123|Recommended|          20| 47.7 hrs on record|Posted: 5 April|\n",
      "|Fun and interacti...|Recommended|          38| 49.7 hrs on record|Posted: 5 April|\n",
      "|Love this game! Y...|Recommended|         126| 36.9 hrs on record|Posted: 5 April|\n",
      "|good but DIGTOISE...|Recommended|         235| 64.0 hrs on record|Posted: 5 April|\n",
      "|Fun for collector...|Recommended|         189| 79.7 hrs on record|Posted: 5 April|\n",
      "|              i like|Recommended|          22| 25.8 hrs on record|Posted: 5 April|\n",
      "|  Pokemon but better|Recommended|          33| 10.1 hrs on record|Posted: 5 April|\n",
      "|           good game|Recommended|          25| 17.8 hrs on record|Posted: 5 April|\n",
      "|You can kidnap pe...|Recommended|          37|  5.0 hrs on record|Posted: 5 April|\n",
      "|           Fun game.|Recommended|          25|122.1 hrs on record|Posted: 5 April|\n",
      "|                 123|Recommended|          20| 47.7 hrs on record|Posted: 5 April|\n",
      "|Fun and interacti...|Recommended|          38| 49.7 hrs on record|Posted: 5 April|\n",
      "|Love this game! Y...|Recommended|         126| 36.9 hrs on record|Posted: 5 April|\n",
      "|good but DIGTOISE...|Recommended|         235| 64.0 hrs on record|Posted: 5 April|\n",
      "|Fun for collector...|Recommended|         189| 79.7 hrs on record|Posted: 5 April|\n",
      "+--------------------+-----------+------------+-------------------+---------------+\n",
      "only showing top 20 rows\n",
      "\n"
     ]
    }
   ],
   "source": [
    "# Replace 'EARLY ACCESS REVIEW' with an empty string in the 'ReviewText' column\n",
    "df_palworld = df_palworld.withColumn(\"ReviewText\", regexp_replace(\"ReviewText\", \"EARLY ACCESS REVIEW\", \"\"))\n",
    "\n",
    "# Show the first few rows of the DataFrame to verify changes\n",
    "df_palworld.show()"
   ]
  },
  {
   "cell_type": "code",
   "execution_count": 59,
   "id": "cc9bb389-0f6d-4c4b-9b58-d21dce2f168f",
   "metadata": {},
   "outputs": [
    {
     "name": "stdout",
     "output_type": "stream",
     "text": [
      "+---------------+\n",
      "|         Review|\n",
      "+---------------+\n",
      "|Not Recommended|\n",
      "|    Recommended|\n",
      "+---------------+\n",
      "\n"
     ]
    }
   ],
   "source": [
    "df_palworld.select(\"Review\").distinct().show()"
   ]
  },
  {
   "cell_type": "code",
   "execution_count": 60,
   "id": "75ff2ae1-6d23-45f2-9694-482901f87510",
   "metadata": {},
   "outputs": [],
   "source": [
    "# Remove duplicates from df_palworld\n",
    "df_palworld = df_palworld.dropDuplicates()\n",
    "\n",
    "# Add a new column 'index' that acts as a row identifier\n",
    "df_palworld = df_palworld.withColumn(\"index\", monotonically_increasing_id())"
   ]
  },
  {
   "cell_type": "code",
   "execution_count": 61,
   "id": "c7a59ee8-8848-4318-900f-0aeaa4035dc2",
   "metadata": {},
   "outputs": [
    {
     "name": "stdout",
     "output_type": "stream",
     "text": [
      "Number of rows in df_palworld: 150\n"
     ]
    }
   ],
   "source": [
    "# Calculate the number of rows in the df_palworld DataFrame\n",
    "num_rows = df_palworld.count()\n",
    "\n",
    "# Print the result\n",
    "print(\"Number of rows in df_palworld:\", num_rows)"
   ]
  },
  {
   "cell_type": "code",
   "execution_count": 62,
   "id": "7293db87-19b9-4be2-8596-f6f24034f6d2",
   "metadata": {},
   "outputs": [],
   "source": [
    "# Cleaning df_craftopia\n",
    "df_craftopia = df_craftopia.withColumn(\"ReviewText\", regexp_replace(\"ReviewText\", \"EARLY ACCESS REVIEW\", \"\"))\n",
    "df_craftopia = df_craftopia.dropDuplicates()\n",
    "df_craftopia = df_craftopia.withColumn(\"index\", monotonically_increasing_id())\n",
    "\n",
    "# Cleaning df_lethal\n",
    "df_lethal = df_lethal.withColumn(\"ReviewText\", regexp_replace(\"ReviewText\", \"EARLY ACCESS REVIEW\", \"\"))\n",
    "df_lethal = df_lethal.dropDuplicates()\n",
    "df_lethal = df_lethal.withColumn(\"index\", monotonically_increasing_id())\n"
   ]
  },
  {
   "cell_type": "code",
   "execution_count": 63,
   "id": "a1240bdb-561a-4d48-ad6a-32128e72b41b",
   "metadata": {},
   "outputs": [],
   "source": [
    "# Combining all three columns\n",
    "df_lethal = df_lethal.withColumn(\"Game\", lit(\"Lethal Companies\"))\n",
    "df_palworld = df_palworld.withColumn(\"Game\", lit(\"Palworld\"))\n",
    "df_craftopia = df_craftopia.withColumn(\"Game\", lit(\"Craftopia\"))"
   ]
  },
  {
   "cell_type": "code",
   "execution_count": 64,
   "id": "68298190-601b-4b11-ba48-04571d2cd018",
   "metadata": {},
   "outputs": [],
   "source": [
    "# Combine all DataFrames into one\n",
    "df_combined = df_lethal.unionByName(df_palworld).unionByName(df_craftopia)"
   ]
  },
  {
   "cell_type": "code",
   "execution_count": 65,
   "id": "3af9180a-c41d-4eb7-ace0-324e9bbf0643",
   "metadata": {},
   "outputs": [
    {
     "name": "stdout",
     "output_type": "stream",
     "text": [
      "+--------------------+---------------+------------+---------+---------------+----------------+\n",
      "|          ReviewText|         Review|ReviewLength|PlayHours|     DatePosted|            Game|\n",
      "+--------------------+---------------+------------+---------+---------------+----------------+\n",
      "|           good game|    Recommended|          25|     34.1|Posted: April 5|Lethal Companies|\n",
      "|  very lethal, 10/10|    Recommended|          33|     19.9|Posted: April 5|Lethal Companies|\n",
      "|pretty fun game e...|    Recommended|          99|     48.7|Posted: April 5|Lethal Companies|\n",
      "|                good|    Recommended|          21|     33.9|Posted: April 5|Lethal Companies|\n",
      "|I saw my friend b...|    Recommended|          84|     58.4|Posted: April 5|Lethal Companies|\n",
      "|The community is ...|    Recommended|          89|     19.6|Posted: April 5|Lethal Companies|\n",
      "|             love it|    Recommended|          23|      4.6|Posted: April 5|Lethal Companies|\n",
      "|The future pentac...|    Recommended|          47|     27.9|Posted: April 5|Lethal Companies|\n",
      "|            QDASDASD|    Recommended|          25|     12.7|Posted: April 5|Lethal Companies|\n",
      "|My team drowned t...|    Recommended|          61|      6.1|Posted: April 5|Lethal Companies|\n",
      "|        peak fiction|    Recommended|          28|    123.2|Posted: April 5|Lethal Companies|\n",
      "|nice 10/10 a sus ...|    Recommended|          71|     40.3|Posted: April 5|Lethal Companies|\n",
      "| nice game i like it|    Recommended|          32|     10.4|Posted: April 5|Lethal Companies|\n",
      "|               10/10|    Recommended|          22|      9.6|Posted: April 5|Lethal Companies|\n",
      "|This game is very...|    Recommended|         120|     77.4|Posted: April 5|Lethal Companies|\n",
      "|  i love the company|    Recommended|          32|    163.3|Posted: April 5|Lethal Companies|\n",
      "|      its epic gamer|    Recommended|          29|      9.7|Posted: April 5|Lethal Companies|\n",
      "|          great game|    Recommended|          26|     13.7|Posted: April 5|Lethal Companies|\n",
      "|Absolutely great ...|Not Recommended|         109|      1.0|Posted: April 5|Lethal Companies|\n",
      "| I got touched 10/10|    Recommended|          33|     34.7|Posted: April 5|Lethal Companies|\n",
      "+--------------------+---------------+------------+---------+---------------+----------------+\n",
      "only showing top 20 rows\n",
      "\n"
     ]
    }
   ],
   "source": [
    "# Extracting the numerical part of the \"PlayHours\" and converting it to float\n",
    "df_combined = df_combined.withColumn(\"PlayHours\", regexp_extract(col(\"PlayHours\"), \"(\\d+\\.\\d+|\\d+)\", 0).cast(\"float\"))\n",
    "df_combined = df_combined.drop(\"index\")\n",
    "# Show the updated DataFrame to verify the changes\n",
    "df_combined.show()"
   ]
  },
  {
   "cell_type": "code",
   "execution_count": 66,
   "id": "db69eeff-eafb-4dfa-81b6-e3071531e78f",
   "metadata": {},
   "outputs": [],
   "source": [
    "# Convert 'ReviewLength' from string to integer\n",
    "df_combined = df_combined.withColumn(\"ReviewLength\", col(\"ReviewLength\").cast(\"integer\"))"
   ]
  },
  {
   "cell_type": "code",
   "execution_count": 67,
   "id": "1bef35d8-cf61-4dd7-a01e-890c65f3d0d1",
   "metadata": {},
   "outputs": [
    {
     "name": "stdout",
     "output_type": "stream",
     "text": [
      "root\n",
      " |-- ReviewText: string (nullable = true)\n",
      " |-- Review: string (nullable = true)\n",
      " |-- ReviewLength: integer (nullable = true)\n",
      " |-- PlayHours: float (nullable = true)\n",
      " |-- DatePosted: string (nullable = true)\n",
      " |-- Game: string (nullable = false)\n",
      "\n"
     ]
    }
   ],
   "source": [
    "# Print the schema of the df_combined DataFrame\n",
    "df_combined.printSchema()\n"
   ]
  },
  {
   "cell_type": "code",
   "execution_count": 68,
   "id": "0e88c5bd-8c5a-4d2e-8c67-1d529506415c",
   "metadata": {},
   "outputs": [],
   "source": [
    "# Save DataFrame to Parquet\n",
    "df_combined.write.mode('overwrite').parquet('df_combined.parquet')"
   ]
  },
  {
   "cell_type": "code",
   "execution_count": 69,
   "id": "fb7a8167-2f82-4326-8a99-09facda9b334",
   "metadata": {},
   "outputs": [],
   "source": [
    "# Stop the SparkSession\n",
    "spark.stop()"
   ]
  },
  {
   "cell_type": "markdown",
   "id": "3320b1b9-7a86-40d2-ad4c-746dd812a801",
   "metadata": {},
   "source": [
    "# Clean Game Info Data"
   ]
  },
  {
   "cell_type": "code",
   "execution_count": 24,
   "id": "90702008-0713-4a9f-ad4a-de6fb4c59e61",
   "metadata": {},
   "outputs": [
    {
     "name": "stderr",
     "output_type": "stream",
     "text": [
      "24/04/11 16:18:08 WARN Utils: Service 'SparkUI' could not bind on port 4040. Attempting port 4041.\n"
     ]
    }
   ],
   "source": [
    "# Initialize Spark session\n",
    "spark = SparkSession.builder \\\n",
    "    .appName(\"Data Cleaning with Spark\") \\\n",
    "    .getOrCreate()\n",
    "\n",
    "# Load the CSV files into Spark DataFrames\n",
    "info_palworld = spark.read.csv('../Web Scraping/InfoPalworld.csv', header=True, inferSchema=True)\n",
    "info_craftopia = spark.read.csv('../Web Scraping/InfoCraftopia.csv', header=True, inferSchema=True)\n",
    "info_lethal = spark.read.csv('../Web Scraping/InfoLethal.csv', header=True, inferSchema=True)\n",
    "\n",
    "# Normalize the game name in the info_lethal DataFrame\n",
    "info_lethal = info_lethal.withColumn(\"Title\", \n",
    "                                     when(col(\"Title\") == \"Lethal Company\", \"Lethal Companies\")\n",
    "                                     .otherwise(col(\"Title\")))\n",
    "\n",
    "# Combine all DataFrames into one\n",
    "combined_info = info_lethal.unionByName(info_craftopia).unionByName(info_palworld)\n",
    "\n",
    "# Clean up the 'Tags' column by removing unwanted symbols\n",
    "combined_info = combined_info.withColumn(\"Tags\", regexp_replace(\"Tags\", r'[^\\w\\s,]', ''))\n",
    "\n",
    "# Convert 'In-Game Count' to integer after removing commas\n",
    "combined_info = combined_info.withColumn(\n",
    "    \"In-Game Count\",\n",
    "    regexp_replace(col(\"In-Game Count\"), \",\", \"\").cast(\"int\")\n",
    ")"
   ]
  },
  {
   "cell_type": "code",
   "execution_count": 25,
   "id": "1621b91f-a691-40c2-9bde-2d73a513c4ea",
   "metadata": {},
   "outputs": [
    {
     "name": "stdout",
     "output_type": "stream",
     "text": [
      "+----------------+----------+-------------+--------------------+--------------------+\n",
      "|           Title| Developer|In-Game Count|                Tags|          Categories|\n",
      "+----------------+----------+-------------+--------------------+--------------------+\n",
      "|Lethal Companies|  Zeekerss|        22876| Online CoOp,  Ho...|Single-player, On...|\n",
      "|       Craftopia|Pocketpair|          335| Open World,  Cra...|Single-player, On...|\n",
      "|        Palworld|Pocketpair|        60281| Multiplayer,  Op...|Single-player, On...|\n",
      "+----------------+----------+-------------+--------------------+--------------------+\n",
      "\n"
     ]
    }
   ],
   "source": [
    "combined_info.show()"
   ]
  },
  {
   "cell_type": "code",
   "execution_count": 26,
   "id": "0d4d0ea8-4836-473c-9007-30fa2c2f6dbe",
   "metadata": {},
   "outputs": [
    {
     "name": "stdout",
     "output_type": "stream",
     "text": [
      "root\n",
      " |-- Title: string (nullable = true)\n",
      " |-- Developer: string (nullable = true)\n",
      " |-- In-Game Count: integer (nullable = true)\n",
      " |-- Tags: string (nullable = true)\n",
      " |-- Categories: string (nullable = true)\n",
      "\n"
     ]
    }
   ],
   "source": [
    "combined_info = combined_info.withColumn(\"In-Game Count\", col(\"In-Game Count\").cast(\"integer\"))\n",
    "combined_info.printSchema()"
   ]
  },
  {
   "cell_type": "code",
   "execution_count": 27,
   "id": "12cd71fa-756f-4c39-a76e-89444f043e54",
   "metadata": {},
   "outputs": [
    {
     "name": "stdout",
     "output_type": "stream",
     "text": [
      "+----------------+----------+-------------+--------------------+--------------------+\n",
      "|            Game| Developer|In-Game Count|                Tags|          Categories|\n",
      "+----------------+----------+-------------+--------------------+--------------------+\n",
      "|Lethal Companies|  Zeekerss|        22876| Online CoOp,  Ho...|Single-player, On...|\n",
      "|       Craftopia|Pocketpair|          335| Open World,  Cra...|Single-player, On...|\n",
      "|        Palworld|Pocketpair|        60281| Multiplayer,  Op...|Single-player, On...|\n",
      "+----------------+----------+-------------+--------------------+--------------------+\n",
      "\n"
     ]
    }
   ],
   "source": [
    "# Rename the 'Title' column to 'Game'\n",
    "combined_info = combined_info.withColumnRenamed(\"Title\", \"Game\")\n",
    "combined_info.show()"
   ]
  },
  {
   "cell_type": "code",
   "execution_count": 28,
   "id": "730370b7-69df-4671-ae57-a27143f0e448",
   "metadata": {},
   "outputs": [],
   "source": [
    "# Save the cleaned DataFrame to a Parquet file\n",
    "combined_info.write.mode('overwrite').parquet('combined_info.parquet')"
   ]
  },
  {
   "cell_type": "code",
   "execution_count": 45,
   "id": "b53b86d9-4765-4eda-8050-2d1e6aa14205",
   "metadata": {},
   "outputs": [],
   "source": [
    "# Stop the Spark session\n",
    "spark.stop()"
   ]
  },
  {
   "cell_type": "markdown",
   "id": "ee3b5fc6-c6fb-4667-b930-7d4a6448a753",
   "metadata": {},
   "source": [
    "# Clean Pricing Data"
   ]
  },
  {
   "cell_type": "code",
   "execution_count": 42,
   "id": "fa0ad9cc-e41d-48b7-aa23-aaf480d5c167",
   "metadata": {},
   "outputs": [
    {
     "name": "stderr",
     "output_type": "stream",
     "text": [
      "24/04/08 20:14:03 WARN Utils: Service 'SparkUI' could not bind on port 4040. Attempting port 4041.\n"
     ]
    }
   ],
   "source": [
    "# Initialize Spark session\n",
    "spark = SparkSession.builder \\\n",
    "    .appName(\"Pricing Data Cleaning\") \\\n",
    "    .getOrCreate()\n",
    "\n",
    "# Load the pricing data into Spark DataFrames\n",
    "pricing_palworld = spark.read.csv('../Web Scraping/Palworld_pricing.csv', header=True, inferSchema=True)\n",
    "pricing_craftopia = spark.read.csv('../Web Scraping/Craftopia_pricing.csv', header=True, inferSchema=True)\n",
    "pricing_lethal = spark.read.csv('../Web Scraping/Lethal_pricing.csv', header=True, inferSchema=True)"
   ]
  },
  {
   "cell_type": "code",
   "execution_count": 43,
   "id": "e631ef02-edc9-4ecb-bdee-a481ab5e2060",
   "metadata": {},
   "outputs": [],
   "source": [
    "pricing_palworld = pricing_palworld.withColumn(\"Game\", lit(\"Palworld\"))\n",
    "pricing_craftopia = pricing_craftopia.withColumn(\"Game\", lit(\"Craftopia\"))\n",
    "pricing_lethal = pricing_lethal.withColumn(\"Game\", lit(\"Lethal Companies\"))\n",
    "pricing_combined = pricing_palworld.unionByName(pricing_craftopia).unionByName(pricing_lethal)"
   ]
  },
  {
   "cell_type": "code",
   "execution_count": 44,
   "id": "1072c279-1c92-4800-a171-b9cc7c4f7a95",
   "metadata": {},
   "outputs": [],
   "source": [
    "def clean_price_udf(price_str):\n",
    "    \"\"\"UDF to clean the price field and keep only digits, periods, and commas.\"\"\"\n",
    "    return ''.join(filter(lambda x: x.isdigit() or x in '.,', price_str))\n",
    "\n",
    "# Register UDF\n",
    "spark.udf.register(\"clean_price_udf\", clean_price_udf, StringType())\n",
    "clean_price = udf(clean_price_udf, StringType())\n",
    "\n",
    "# Apply the cleaning UDF to price columns\n",
    "pricing_combined = pricing_combined.withColumn(\"Current Price\", clean_price(col(\"Current Price\")))\n",
    "pricing_combined = pricing_combined.withColumn(\"Converted Price\", clean_price(col(\"Converted Price\")))\n",
    "pricing_combined = pricing_combined.withColumn(\"Lowest Recorded Price\", clean_price(col(\"Lowest Recorded Price\")))\n",
    "\n",
    "# Convert the cleaned price fields to float\n",
    "pricing_combined = pricing_combined.withColumn(\"Current Price\", col(\"Current Price\").cast(FloatType()))\n",
    "pricing_combined = pricing_combined.withColumn(\"Converted Price\", col(\"Converted Price\").cast(FloatType()))\n",
    "pricing_combined = pricing_combined.withColumn(\"Lowest Recorded Price\", col(\"Lowest Recorded Price\").cast(FloatType()))\n"
   ]
  },
  {
   "cell_type": "code",
   "execution_count": 45,
   "id": "d7fda619-f208-4c49-833b-d38f98a48273",
   "metadata": {},
   "outputs": [
    {
     "name": "stderr",
     "output_type": "stream",
     "text": [
      "[Stage 6:>                                                          (0 + 1) / 1]\r"
     ]
    },
    {
     "name": "stdout",
     "output_type": "stream",
     "text": [
      "+-------------------+-------------+---------------+---------------------+--------+\n",
      "|           Currency|Current Price|Converted Price|Lowest Recorded Price|    Game|\n",
      "+-------------------+-------------+---------------+---------------------+--------+\n",
      "|      British Pound|       22.491|          22.49|               22.491|Palworld|\n",
      "|   South Asia - USD|        9.441|           7.47|                 7.47|Palworld|\n",
      "|      Russian Ruble|      99010.0|           8.47|                 8.47|Palworld|\n",
      "| South African Rand|      243.001|          10.31|                10.31|Palworld|\n",
      "|  CIS - U.S. Dollar|       13.041|          10.32|                10.32|Palworld|\n",
      "|       Chinese Yuan|       97.201|          10.63|                10.63|Palworld|\n",
      "|LATAM - U.S. Dollar|       13.491|          10.68|                10.68|Palworld|\n",
      "| MENA - U.S. Dollar|       13.491|          10.68|                10.68|Palworld|\n",
      "|  Malaysian Ringgit|       64.801|           10.8|                 10.8|Palworld|\n",
      "|      Taiwan Dollar|      43910.0|          10.82|                10.82|Palworld|\n",
      "|  Ukrainian Hryvnia|      54010.0|          10.94|                10.94|Palworld|\n",
      "|    Vietnamese Dong|  3.4650008E7|          10.98|                10.98|Palworld|\n",
      "|  Indonesian Rupiah|   2.213991E7|          11.04|                11.04|Palworld|\n",
      "|       Indian Rupee|     117010.0|          11.11|                11.11|Palworld|\n",
      "|      Kuwaiti Dinar|        4.451|          11.45|                11.45|Palworld|\n",
      "|    Philippine Peso|      819.001|          11.46|                11.46|Palworld|\n",
      "|          Thai Baht|      531.001|          11.49|                11.49|Palworld|\n",
      "|       Chilean Peso|    1395010.0|          11.64|                11.64|Palworld|\n",
      "|        Saudi Riyal|       55.341|          11.68|                11.68|Palworld|\n",
      "|  Kazakhstani Tenge|     684010.0|          12.12|                12.12|Palworld|\n",
      "+-------------------+-------------+---------------+---------------------+--------+\n",
      "only showing top 20 rows\n",
      "\n"
     ]
    },
    {
     "name": "stderr",
     "output_type": "stream",
     "text": [
      "                                                                                \r"
     ]
    }
   ],
   "source": [
    "pricing_combined.show()"
   ]
  },
  {
   "cell_type": "code",
   "execution_count": 39,
   "id": "4d64af80-19cd-40e7-a7cb-bac95ed9451f",
   "metadata": {},
   "outputs": [
    {
     "name": "stderr",
     "output_type": "stream",
     "text": [
      "                                                                                \r"
     ]
    }
   ],
   "source": [
    "pricing_combined.write.mode('overwrite').parquet('pricing_combined.parquet')\n"
   ]
  },
  {
   "cell_type": "code",
   "execution_count": 40,
   "id": "22389ede-ff79-4050-87c3-5522fa874f38",
   "metadata": {},
   "outputs": [],
   "source": [
    "spark.stop()"
   ]
  },
  {
   "cell_type": "code",
   "execution_count": null,
   "id": "f183956c-cd00-4fb1-b0b1-fc17ed21f4f1",
   "metadata": {},
   "outputs": [],
   "source": []
  }
 ],
 "metadata": {
  "ai8-sym": {
   "notebook_id": "63c09d28-366a-4e39-b648-fbed4cbe9923"
  },
  "kernelspec": {
   "display_name": "Python 3 (ipykernel)",
   "language": "python",
   "name": "python3"
  },
  "language_info": {
   "codemirror_mode": {
    "name": "ipython",
    "version": 3
   },
   "file_extension": ".py",
   "mimetype": "text/x-python",
   "name": "python",
   "nbconvert_exporter": "python",
   "pygments_lexer": "ipython3",
   "version": "3.11.6"
  }
 },
 "nbformat": 4,
 "nbformat_minor": 5
}
