{
 "cells": [
  {
   "cell_type": "code",
   "execution_count": 19,
   "id": "c60d2dc4-3899-485d-9028-e4580c70ce6d",
   "metadata": {},
   "outputs": [],
   "source": [
    "#Import Relevant Libraries\n",
    "from pyspark.sql import SparkSession\n",
    "from pyspark.sql.functions import col\n",
    "from pyspark.sql.functions import regexp_replace\n",
    "from pyspark.sql.functions import monotonically_increasing_id\n",
    "from pyspark.sql.functions import lit\n",
    "from pyspark.sql.functions import regexp_replace, col, concat_ws\n",
    "from pyspark.sql.functions import udf\n",
    "from pyspark.sql.types import StringType, FloatType"
   ]
  },
  {
   "cell_type": "markdown",
   "id": "2a65c077-fa69-431c-954e-52412d472286",
   "metadata": {},
   "source": [
    "# Clean The Review Data"
   ]
  },
  {
   "cell_type": "code",
   "execution_count": 6,
   "id": "245730d0-2db8-4980-81e1-4e13f074ed16",
   "metadata": {},
   "outputs": [
    {
     "name": "stderr",
     "output_type": "stream",
     "text": [
      "                                                                                \r"
     ]
    }
   ],
   "source": [
    "# Initialize a SparkSession\n",
    "spark = SparkSession.builder \\\n",
    "    .appName(\"Data Cleaning with Spark\") \\\n",
    "    .getOrCreate()\n",
    "\n",
    "# Load the data into Spark DataFrames\n",
    "df_palworld = spark.read.csv('../Web Scraping/Palworld.csv', header=True, inferSchema=True)\n",
    "df_craftopia = spark.read.csv('../Web Scraping/Craftopia.csv', header=True, inferSchema=True)\n",
    "df_lethal = spark.read.csv('../Web Scraping/LethalCompany.csv', header=True, inferSchema=True)\n"
   ]
  },
  {
   "cell_type": "code",
   "execution_count": 7,
   "id": "ad1e1b83-744d-444f-a677-7389b96adad5",
   "metadata": {},
   "outputs": [
    {
     "name": "stdout",
     "output_type": "stream",
     "text": [
      "+--------------------+-----------+------------+-------------------+---------------+\n",
      "|          ReviewText|     Review|ReviewLength|          PlayHours|     DatePosted|\n",
      "+--------------------+-----------+------------+-------------------+---------------+\n",
      "|              i like|Recommended|          22| 25.8 hrs on record|Posted: 5 April|\n",
      "|  Pokemon but better|Recommended|          33| 10.1 hrs on record|Posted: 5 April|\n",
      "|           good game|Recommended|          25| 17.8 hrs on record|Posted: 5 April|\n",
      "|You can kidnap pe...|Recommended|          37|  5.0 hrs on record|Posted: 5 April|\n",
      "|           Fun game.|Recommended|          25|122.1 hrs on record|Posted: 5 April|\n",
      "|                 123|Recommended|          20| 47.7 hrs on record|Posted: 5 April|\n",
      "|Fun and interacti...|Recommended|          38| 49.7 hrs on record|Posted: 5 April|\n",
      "|Love this game! Y...|Recommended|         126| 36.9 hrs on record|Posted: 5 April|\n",
      "|good but DIGTOISE...|Recommended|         235| 64.0 hrs on record|Posted: 5 April|\n",
      "|Fun for collector...|Recommended|         189| 79.7 hrs on record|Posted: 5 April|\n",
      "|              i like|Recommended|          22| 25.8 hrs on record|Posted: 5 April|\n",
      "|  Pokemon but better|Recommended|          33| 10.1 hrs on record|Posted: 5 April|\n",
      "|           good game|Recommended|          25| 17.8 hrs on record|Posted: 5 April|\n",
      "|You can kidnap pe...|Recommended|          37|  5.0 hrs on record|Posted: 5 April|\n",
      "|           Fun game.|Recommended|          25|122.1 hrs on record|Posted: 5 April|\n",
      "|                 123|Recommended|          20| 47.7 hrs on record|Posted: 5 April|\n",
      "|Fun and interacti...|Recommended|          38| 49.7 hrs on record|Posted: 5 April|\n",
      "|Love this game! Y...|Recommended|         126| 36.9 hrs on record|Posted: 5 April|\n",
      "|good but DIGTOISE...|Recommended|         235| 64.0 hrs on record|Posted: 5 April|\n",
      "|Fun for collector...|Recommended|         189| 79.7 hrs on record|Posted: 5 April|\n",
      "+--------------------+-----------+------------+-------------------+---------------+\n",
      "only showing top 20 rows\n",
      "\n"
     ]
    }
   ],
   "source": [
    "# Replace 'EARLY ACCESS REVIEW' with an empty string in the 'ReviewText' column\n",
    "df_palworld = df_palworld.withColumn(\"ReviewText\", regexp_replace(\"ReviewText\", \"EARLY ACCESS REVIEW\", \"\"))\n",
    "\n",
    "# Show the first few rows of the DataFrame to verify changes\n",
    "df_palworld.show()"
   ]
  },
  {
   "cell_type": "code",
   "execution_count": 8,
   "id": "75ff2ae1-6d23-45f2-9694-482901f87510",
   "metadata": {},
   "outputs": [],
   "source": [
    "# Remove duplicates from df_palworld\n",
    "df_palworld = df_palworld.dropDuplicates()\n",
    "\n",
    "# Add a new column 'index' that acts as a row identifier\n",
    "df_palworld = df_palworld.withColumn(\"index\", monotonically_increasing_id())"
   ]
  },
  {
   "cell_type": "code",
   "execution_count": 9,
   "id": "7293db87-19b9-4be2-8596-f6f24034f6d2",
   "metadata": {},
   "outputs": [],
   "source": [
    "# Cleaning df_craftopia\n",
    "df_craftopia = df_craftopia.withColumn(\"ReviewText\", regexp_replace(\"ReviewText\", \"EARLY ACCESS REVIEW\", \"\"))\n",
    "df_craftopia = df_craftopia.dropDuplicates()\n",
    "df_craftopia = df_craftopia.withColumn(\"index\", monotonically_increasing_id())\n",
    "\n",
    "# Cleaning df_lethal\n",
    "df_lethal = df_lethal.withColumn(\"ReviewText\", regexp_replace(\"ReviewText\", \"EARLY ACCESS REVIEW\", \"\"))\n",
    "df_lethal = df_lethal.dropDuplicates()\n",
    "df_lethal = df_lethal.withColumn(\"index\", monotonically_increasing_id())\n"
   ]
  },
  {
   "cell_type": "code",
   "execution_count": 11,
   "id": "a1240bdb-561a-4d48-ad6a-32128e72b41b",
   "metadata": {},
   "outputs": [],
   "source": [
    "# Combining all three columns\n",
    "df_lethal = df_lethal.withColumn(\"Game\", lit(\"Lethal Companies\"))\n",
    "df_palworld = df_palworld.withColumn(\"Game\", lit(\"Palworld\"))\n",
    "df_craftopia = df_craftopia.withColumn(\"Game\", lit(\"Craftopia\"))"
   ]
  },
  {
   "cell_type": "code",
   "execution_count": 12,
   "id": "68298190-601b-4b11-ba48-04571d2cd018",
   "metadata": {},
   "outputs": [
    {
     "name": "stderr",
     "output_type": "stream",
     "text": [
      "[Stage 9:>                                                          (0 + 1) / 1]\r"
     ]
    },
    {
     "name": "stdout",
     "output_type": "stream",
     "text": [
      "+--------------------+-----------+------------+-------------------+---------------+-----+----------------+\n",
      "|          ReviewText|     Review|ReviewLength|          PlayHours|     DatePosted|index|            Game|\n",
      "+--------------------+-----------+------------+-------------------+---------------+-----+----------------+\n",
      "|                 jeb|Recommended|          20| 21.0 hrs on record|Posted: April 5|    0|Lethal Companies|\n",
      "|I will leave my c...|Recommended|         322|  5.0 hrs on record|Posted: April 5|    1|Lethal Companies|\n",
      "|                good|Recommended|          21|104.5 hrs on record|Posted: April 5|    2|Lethal Companies|\n",
      "|                deez|Recommended|          21| 15.3 hrs on record|Posted: April 5|    3|Lethal Companies|\n",
      "|  funny with friends|Recommended|          33| 56.1 hrs on record|Posted: April 5|    4|Lethal Companies|\n",
      "|pretty fun game e...|Recommended|          99| 48.7 hrs on record|Posted: April 5|    5|Lethal Companies|\n",
      "|                 gud|Recommended|          20| 28.8 hrs on record|Posted: April 5|    6|Lethal Companies|\n",
      "|  watch out for bees|Recommended|          32| 11.1 hrs on record|Posted: April 5|    7|Lethal Companies|\n",
      "|game is so much f...|Recommended|          72| 22.3 hrs on record|Posted: April 5|    8|Lethal Companies|\n",
      "|                 yes|Recommended|          20| 12.9 hrs on record|Posted: April 5|    9|Lethal Companies|\n",
      "|it's an amazing a...|Recommended|          50| 15.0 hrs on record|Posted: April 5|   10|Lethal Companies|\n",
      "|Damn they weren't...|Recommended|          59|129.6 hrs on record|Posted: April 5|   11|Lethal Companies|\n",
      "|                sure|Recommended|          21|  5.2 hrs on record|Posted: 5 April|   12|Lethal Companies|\n",
      "|               boobs|Recommended|          22| 38.6 hrs on record|Posted: April 5|   13|Lethal Companies|\n",
      "|my friends are bo...|Recommended|          57|  4.0 hrs on record|Posted: April 5|   14|Lethal Companies|\n",
      "|I saw my friend b...|Recommended|          84| 58.4 hrs on record|Posted: April 5|   15|Lethal Companies|\n",
      "|  i love the company|Recommended|          32|163.3 hrs on record|Posted: April 5|   16|Lethal Companies|\n",
      "|                 yea|Recommended|          20|  8.2 hrs on record|Posted: April 5|   17|Lethal Companies|\n",
      "| nice game i like it|Recommended|          32| 10.4 hrs on record|Posted: April 5|   18|Lethal Companies|\n",
      "|            fa paria|Recommended|          24| 33.6 hrs on record|Posted: April 5|   19|Lethal Companies|\n",
      "+--------------------+-----------+------------+-------------------+---------------+-----+----------------+\n",
      "only showing top 20 rows\n",
      "\n"
     ]
    },
    {
     "name": "stderr",
     "output_type": "stream",
     "text": [
      "                                                                                \r"
     ]
    }
   ],
   "source": [
    "# Combine all DataFrames into one\n",
    "df_combined = df_lethal.unionByName(df_palworld).unionByName(df_craftopia)\n",
    "\n",
    "# Show the combined DataFrame to verify it\n",
    "df_combined.show()"
   ]
  },
  {
   "cell_type": "code",
   "execution_count": 14,
   "id": "0e88c5bd-8c5a-4d2e-8c67-1d529506415c",
   "metadata": {},
   "outputs": [],
   "source": [
    "# Save DataFrame to Parquet\n",
    "df_combined.write.parquet('df_combined.parquet')"
   ]
  },
  {
   "cell_type": "code",
   "execution_count": 15,
   "id": "fb7a8167-2f82-4326-8a99-09facda9b334",
   "metadata": {},
   "outputs": [],
   "source": [
    "# Stop the SparkSession\n",
    "spark.stop()"
   ]
  },
  {
   "cell_type": "markdown",
   "id": "3320b1b9-7a86-40d2-ad4c-746dd812a801",
   "metadata": {},
   "source": [
    "# Clean Game Info Data"
   ]
  },
  {
   "cell_type": "code",
   "execution_count": 18,
   "id": "90702008-0713-4a9f-ad4a-de6fb4c59e61",
   "metadata": {},
   "outputs": [
    {
     "name": "stderr",
     "output_type": "stream",
     "text": [
      "                                                                                \r"
     ]
    }
   ],
   "source": [
    "# Initialize Spark session\n",
    "spark = SparkSession.builder \\\n",
    "    .appName(\"Data Cleaning with Spark\") \\\n",
    "    .getOrCreate()\n",
    "\n",
    "# Load the CSV files into Spark DataFrames\n",
    "info_palworld = spark.read.csv('../Web Scraping/InfoPalworld.csv', header=True, inferSchema=True)\n",
    "info_craftopia = spark.read.csv('../Web Scraping/InfoCraftopia.csv', header=True, inferSchema=True)\n",
    "info_lethal = spark.read.csv('../Web Scraping/InfoLethal.csv', header=True, inferSchema=True)\n",
    "\n",
    "# Combine all DataFrames into one\n",
    "combined_info = info_lethal.unionByName(info_craftopia).unionByName(info_palworld)\n",
    "\n",
    "# Clean up the 'Tags' column by removing unwanted symbols\n",
    "combined_info = combined_info.withColumn(\"Tags\", regexp_replace(\"Tags\", r'[^\\w\\s,]', ''))\n",
    "\n",
    "# Convert 'In-Game Count' to integer after removing commas\n",
    "combined_info = combined_info.withColumn(\n",
    "    \"In-Game Count\",\n",
    "    regexp_replace(col(\"In-Game Count\"), \",\", \"\").cast(\"int\")\n",
    ")\n",
    "\n",
    "# Save the cleaned DataFrame to a Parquet file\n",
    "combined_info.write.mode('overwrite').parquet('combined_info.parquet')\n",
    "\n",
    "# Stop the Spark session\n",
    "spark.stop()\n"
   ]
  },
  {
   "cell_type": "markdown",
   "id": "ee3b5fc6-c6fb-4667-b930-7d4a6448a753",
   "metadata": {},
   "source": [
    "# Clean Pricing Data"
   ]
  },
  {
   "cell_type": "code",
   "execution_count": 20,
   "id": "fa0ad9cc-e41d-48b7-aa23-aaf480d5c167",
   "metadata": {},
   "outputs": [
    {
     "name": "stderr",
     "output_type": "stream",
     "text": [
      "24/04/08 19:16:55 WARN Utils: Service 'SparkUI' could not bind on port 4040. Attempting port 4041.\n"
     ]
    }
   ],
   "source": [
    "# Initialize Spark session\n",
    "spark = SparkSession.builder \\\n",
    "    .appName(\"Pricing Data Cleaning\") \\\n",
    "    .getOrCreate()\n",
    "\n",
    "# Load the pricing data into Spark DataFrames\n",
    "pricing_palworld = spark.read.csv('../Web Scraping/Palworld_pricing.csv', header=True, inferSchema=True)\n",
    "pricing_craftopia = spark.read.csv('../Web Scraping/Craftopia_pricing.csv', header=True, inferSchema=True)\n",
    "pricing_lethal = spark.read.csv('../Web Scraping/Lethal_pricing.csv', header=True, inferSchema=True)"
   ]
  },
  {
   "cell_type": "code",
   "execution_count": 21,
   "id": "e631ef02-edc9-4ecb-bdee-a481ab5e2060",
   "metadata": {},
   "outputs": [],
   "source": [
    "pricing_palworld = pricing_palworld.withColumn(\"Game\", lit(\"Palworld\"))\n",
    "pricing_craftopia = pricing_craftopia.withColumn(\"Game\", lit(\"Craftopia\"))\n",
    "pricing_lethal = pricing_lethal.withColumn(\"Game\", lit(\"Lethal\"))\n",
    "pricing_combined = pricing_palworld.unionByName(pricing_craftopia).unionByName(pricing_lethal)"
   ]
  },
  {
   "cell_type": "code",
   "execution_count": 22,
   "id": "1072c279-1c92-4800-a171-b9cc7c4f7a95",
   "metadata": {},
   "outputs": [],
   "source": [
    "def clean_price_udf(price_str):\n",
    "    \"\"\"UDF to clean the price field and keep only digits, periods, and commas.\"\"\"\n",
    "    return ''.join(filter(lambda x: x.isdigit() or x in '.,', price_str))\n",
    "\n",
    "# Register UDF\n",
    "spark.udf.register(\"clean_price_udf\", clean_price_udf, StringType())\n",
    "clean_price = udf(clean_price_udf, StringType())\n",
    "\n",
    "# Apply the cleaning UDF to price columns\n",
    "pricing_combined = pricing_combined.withColumn(\"Current Price\", clean_price(col(\"Current Price\")))\n",
    "pricing_combined = pricing_combined.withColumn(\"Converted Price\", clean_price(col(\"Converted Price\")))\n",
    "pricing_combined = pricing_combined.withColumn(\"Lowest Recorded Price\", clean_price(col(\"Lowest Recorded Price\")))\n",
    "\n",
    "# Convert the cleaned price fields to float\n",
    "pricing_combined = pricing_combined.withColumn(\"Current Price\", col(\"Current Price\").cast(FloatType()))\n",
    "pricing_combined = pricing_combined.withColumn(\"Converted Price\", col(\"Converted Price\").cast(FloatType()))\n",
    "pricing_combined = pricing_combined.withColumn(\"Lowest Recorded Price\", col(\"Lowest Recorded Price\").cast(FloatType()))\n"
   ]
  },
  {
   "cell_type": "code",
   "execution_count": 23,
   "id": "4d64af80-19cd-40e7-a7cb-bac95ed9451f",
   "metadata": {},
   "outputs": [
    {
     "name": "stderr",
     "output_type": "stream",
     "text": [
      "                                                                                \r"
     ]
    }
   ],
   "source": [
    "pricing_combined.write.mode('overwrite').parquet('pricing_combined.parquet')\n"
   ]
  },
  {
   "cell_type": "code",
   "execution_count": 24,
   "id": "22389ede-ff79-4050-87c3-5522fa874f38",
   "metadata": {},
   "outputs": [],
   "source": [
    "spark.stop()"
   ]
  }
 ],
 "metadata": {
  "ai8-sym": {
   "notebook_id": "63c09d28-366a-4e39-b648-fbed4cbe9923"
  },
  "kernelspec": {
   "display_name": "Python 3 (ipykernel)",
   "language": "python",
   "name": "python3"
  },
  "language_info": {
   "codemirror_mode": {
    "name": "ipython",
    "version": 3
   },
   "file_extension": ".py",
   "mimetype": "text/x-python",
   "name": "python",
   "nbconvert_exporter": "python",
   "pygments_lexer": "ipython3",
   "version": "3.11.6"
  }
 },
 "nbformat": 4,
 "nbformat_minor": 5
}
